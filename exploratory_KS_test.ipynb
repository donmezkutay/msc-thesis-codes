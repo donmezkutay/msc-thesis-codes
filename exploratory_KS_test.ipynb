{
 "cells": [
  {
   "cell_type": "markdown",
   "id": "5b33f8be-5549-4068-8009-f62404769a74",
   "metadata": {},
   "source": [
    "**Perform Kolmogorov-Smirnov Test for goodness of fit**\n",
    "\n",
    "This test compares the underlying continuous distributions F(x) and G(x) of two independent samples.\n",
    "\n",
    "Source : https://docs.scipy.org/doc/scipy/reference/generated/scipy.stats.ks_2samp.html#scipy.stats.ks_2samp"
   ]
  },
  {
   "cell_type": "code",
   "execution_count": 5,
   "id": "5609446f-e3b7-4e09-a86a-7f6f514396b8",
   "metadata": {},
   "outputs": [],
   "source": [
    "from scipy import stats\n",
    "import numpy as np"
   ]
  },
  {
   "cell_type": "markdown",
   "id": "47a40b03-221e-4b11-a4bf-17b997afd60e",
   "metadata": {},
   "source": [
    "**Usage**\n",
    "\n",
    "-- stats.ks_2samp(data1, data2, alternative='two-sided', method='auto')\n",
    "\n",
    "There are three options for the null and corresponding alternative hypothesis that can be selected using the **alternative** parameter.\n",
    "\n",
    "* less: The null hypothesis is that F(x) >= G(x) for all x; the alternative is that F(x) < G(x) for at least one x. The statistic is the magnitude of the minimum (most negative) difference between the empirical distribution functions of the samples.\n",
    "\n",
    "* greater: The null hypothesis is that F(x) <= G(x) for all x; the alternative is that F(x) > G(x) for at least one x. The statistic is the maximum (most positive) difference between the empirical distribution functions of the samples.\n",
    "\n",
    "* two-sided: The null hypothesis is that the two distributions are identical, F(x)=G(x) for all x; the alternative is that they are not identical. The statistic is the maximum absolute difference between the empirical distribution functions of the samples.\n",
    "\n",
    "Examples\n",
    "\n",
    "Suppose we wish to test the null hypothesis that two samples were drawn from the same distribution. We choose a **confidence level of 95%**; that is, we will **reject** the null hypothesis in favor of the alternative if the **p-value is less than 0.05**.\n",
    "\n",
    "If the first sample were drawn from a uniform distribution and the second were drawn from the standard normal, we would expect the null hypothesis to be rejected."
   ]
  },
  {
   "cell_type": "code",
   "execution_count": 6,
   "id": "c05d1408-ad8a-44c5-8098-74cfa1f9f3c1",
   "metadata": {},
   "outputs": [
    {
     "data": {
      "text/plain": [
       "KstestResult(statistic=0.5636363636363636, pvalue=1.9984014443252818e-15)"
      ]
     },
     "execution_count": 6,
     "metadata": {},
     "output_type": "execute_result"
    }
   ],
   "source": [
    "import numpy as np\n",
    "rng = np.random.default_rng()\n",
    "sample1 = stats.uniform.rvs(size=100, random_state=rng)\n",
    "sample2 = stats.norm.rvs(size=110, random_state=rng)\n",
    "stats.ks_2samp(sample1, sample2, alternative='two-sided')"
   ]
  },
  {
   "cell_type": "markdown",
   "id": "18e445da-fa6f-4f2c-b601-a0466368137e",
   "metadata": {},
   "source": [
    "Indeed, the **p-value** is lower than our **threshold of 0.05**, so we **reject the null hypothesis** in favor of the default “two-sided” alternative: the data were not drawn from the same distribution.\n",
    "\n",
    "When both samples are drawn from the same distribution, we expect the data to be consistent with the null hypothesis most of the time."
   ]
  },
  {
   "cell_type": "code",
   "execution_count": 7,
   "id": "e452d48f-f254-4c07-ad4f-9b97e2057cbb",
   "metadata": {},
   "outputs": [
    {
     "data": {
      "text/plain": [
       "KstestResult(statistic=0.13784461152882205, pvalue=0.26720413899452866)"
      ]
     },
     "execution_count": 7,
     "metadata": {},
     "output_type": "execute_result"
    }
   ],
   "source": [
    "sample1 = stats.uniform.rvs(size=105, random_state=rng)\n",
    "sample2 = stats.uniform.rvs(size=95, random_state=rng)\n",
    "stats.ks_2samp(sample1, sample2, alternative='two-sided')"
   ]
  },
  {
   "cell_type": "markdown",
   "id": "fe8652ef-4802-49e7-9c65-e1f75b31d313",
   "metadata": {},
   "source": [
    "As expected, the p-value of **0.26** is not below our **threshold of 0.05**, so we **cannot reject the null hypothesis**.\n",
    "\n",
    "Suppose, however, that the first sample were drawn from a normal distribution **shifted toward greater values**. In this case, the cumulative density function (CDF) of the underlying distribution tends to be **less than** the CDF underlying the second sample. Therefore, we would expect the null hypothesis to be **rejected with alternative='less'**:"
   ]
  },
  {
   "cell_type": "code",
   "execution_count": 8,
   "id": "86841ad5-fb7b-4bb7-8fd0-4c3be7e4744e",
   "metadata": {},
   "outputs": [
    {
     "data": {
      "text/plain": [
       "KstestResult(statistic=0.569423558897243, pvalue=8.646754182177063e-16)"
      ]
     },
     "execution_count": 8,
     "metadata": {},
     "output_type": "execute_result"
    }
   ],
   "source": [
    "sample1 = stats.uniform.rvs(size=105, loc=0.5, random_state=rng)\n",
    "sample2 = stats.uniform.rvs(size=95, random_state=rng)\n",
    "stats.ks_2samp(sample1, sample2, alternative='less')"
   ]
  },
  {
   "cell_type": "markdown",
   "id": "90cecae9-93fc-4c54-8aa5-fc71c187d60b",
   "metadata": {},
   "source": [
    "and indeed, with p-value smaller than our threshold, we reject the null hypothesis in favor of the alternative."
   ]
  }
 ],
 "metadata": {
  "kernelspec": {
   "display_name": "Python 3 (ipykernel)",
   "language": "python",
   "name": "python3"
  },
  "language_info": {
   "codemirror_mode": {
    "name": "ipython",
    "version": 3
   },
   "file_extension": ".py",
   "mimetype": "text/x-python",
   "name": "python",
   "nbconvert_exporter": "python",
   "pygments_lexer": "ipython3",
   "version": "3.10.4"
  }
 },
 "nbformat": 4,
 "nbformat_minor": 5
}
