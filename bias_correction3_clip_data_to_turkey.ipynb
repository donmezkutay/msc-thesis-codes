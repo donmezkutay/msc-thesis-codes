{
 "cells": [
  {
   "cell_type": "markdown",
   "id": "4e327a8b-3565-4080-9c43-b7ea14d55892",
   "metadata": {},
   "source": [
    "## 0. Import Libraries"
   ]
  },
  {
   "cell_type": "code",
   "execution_count": 2,
   "id": "c84df8af-6910-4191-8694-d2022a8e4312",
   "metadata": {},
   "outputs": [
    {
     "name": "stdout",
     "output_type": "stream",
     "text": [
      "The autoreload extension is already loaded. To reload it, use:\n",
      "  %reload_ext autoreload\n"
     ]
    }
   ],
   "source": [
    "import xarray as xr\n",
    "import numpy as np\n",
    "import matplotlib.pyplot as plt\n",
    "import geopandas as gpd\n",
    "\n",
    "from xclim import sdba\n",
    "from glob import glob\n",
    "from shapely.geometry import mapping\n",
    "\n",
    "import xclim\n",
    "import utils\n",
    "\n",
    "\n",
    "%load_ext autoreload\n",
    "%autoreload 2\n",
    "%reload_ext autoreload"
   ]
  },
  {
   "cell_type": "markdown",
   "id": "50541eb7-498a-4017-9e85-3f37ac88ad74",
   "metadata": {},
   "source": [
    "## 1. Open Data"
   ]
  },
  {
   "cell_type": "code",
   "execution_count": 3,
   "id": "adceb23e-c0cd-4286-bfad-97fd8838e7b1",
   "metadata": {},
   "outputs": [],
   "source": [
    "# change if needed\n",
    "bias_algo = 'QDM' # EQM or QDM\n",
    "\n",
    "path_general = r'/mnt/d/JupyterLab/Yuksek_Lisans/msc_thesis_data'\n",
    "path_coeff = r'data/bias_correction'\n",
    "season = 'JJA' # DJF or JJA"
   ]
  },
  {
   "cell_type": "markdown",
   "id": "3f099c7b-089c-404d-8dda-61de5e1966d7",
   "metadata": {},
   "source": [
    "### 1.1 Model"
   ]
  },
  {
   "cell_type": "code",
   "execution_count": 4,
   "id": "e401f011-0d23-4e5f-b46b-bb42219b75c0",
   "metadata": {},
   "outputs": [
    {
     "data": {
      "text/plain": [
       "['/mnt/d/JupyterLab/Yuksek_Lisans/msc_thesis_data/cosmo/yearly/BC/BC_QDM_Tr011_MPI_RF_PR_JJA_1hr_1985.nc',\n",
       " '/mnt/d/JupyterLab/Yuksek_Lisans/msc_thesis_data/cosmo/yearly/BC/BC_QDM_Tr011_MPI_RF_PR_JJA_1hr_1986.nc',\n",
       " '/mnt/d/JupyterLab/Yuksek_Lisans/msc_thesis_data/cosmo/yearly/BC/BC_QDM_Tr011_MPI_RF_PR_JJA_1hr_1987.nc',\n",
       " '/mnt/d/JupyterLab/Yuksek_Lisans/msc_thesis_data/cosmo/yearly/BC/BC_QDM_Tr011_MPI_RF_PR_JJA_1hr_1988.nc',\n",
       " '/mnt/d/JupyterLab/Yuksek_Lisans/msc_thesis_data/cosmo/yearly/BC/BC_QDM_Tr011_MPI_RF_PR_JJA_1hr_1989.nc',\n",
       " '/mnt/d/JupyterLab/Yuksek_Lisans/msc_thesis_data/cosmo/yearly/BC/BC_QDM_Tr011_MPI_RF_PR_JJA_1hr_1990.nc',\n",
       " '/mnt/d/JupyterLab/Yuksek_Lisans/msc_thesis_data/cosmo/yearly/BC/BC_QDM_Tr011_MPI_RF_PR_JJA_1hr_1991.nc',\n",
       " '/mnt/d/JupyterLab/Yuksek_Lisans/msc_thesis_data/cosmo/yearly/BC/BC_QDM_Tr011_MPI_RF_PR_JJA_1hr_1992.nc',\n",
       " '/mnt/d/JupyterLab/Yuksek_Lisans/msc_thesis_data/cosmo/yearly/BC/BC_QDM_Tr011_MPI_RF_PR_JJA_1hr_1993.nc',\n",
       " '/mnt/d/JupyterLab/Yuksek_Lisans/msc_thesis_data/cosmo/yearly/BC/BC_QDM_Tr011_MPI_RF_PR_JJA_1hr_1994.nc',\n",
       " '/mnt/d/JupyterLab/Yuksek_Lisans/msc_thesis_data/cosmo/yearly/BC/BC_QDM_Tr011_MPI_RF_PR_JJA_1hr_1995.nc',\n",
       " '/mnt/d/JupyterLab/Yuksek_Lisans/msc_thesis_data/cosmo/yearly/BC/BC_QDM_Tr011_MPI_RF_PR_JJA_1hr_1996.nc',\n",
       " '/mnt/d/JupyterLab/Yuksek_Lisans/msc_thesis_data/cosmo/yearly/BC/BC_QDM_Tr011_MPI_RF_PR_JJA_1hr_1997.nc',\n",
       " '/mnt/d/JupyterLab/Yuksek_Lisans/msc_thesis_data/cosmo/yearly/BC/BC_QDM_Tr011_MPI_RF_PR_JJA_1hr_1998.nc',\n",
       " '/mnt/d/JupyterLab/Yuksek_Lisans/msc_thesis_data/cosmo/yearly/BC/BC_QDM_Tr011_MPI_RF_PR_JJA_1hr_1999.nc',\n",
       " '/mnt/d/JupyterLab/Yuksek_Lisans/msc_thesis_data/cosmo/yearly/BC/BC_QDM_Tr011_MPI_RF_PR_JJA_1hr_2000.nc',\n",
       " '/mnt/d/JupyterLab/Yuksek_Lisans/msc_thesis_data/cosmo/yearly/BC/BC_QDM_Tr011_MPI_RF_PR_JJA_1hr_2001.nc',\n",
       " '/mnt/d/JupyterLab/Yuksek_Lisans/msc_thesis_data/cosmo/yearly/BC/BC_QDM_Tr011_MPI_RF_PR_JJA_1hr_2002.nc',\n",
       " '/mnt/d/JupyterLab/Yuksek_Lisans/msc_thesis_data/cosmo/yearly/BC/BC_QDM_Tr011_MPI_RF_PR_JJA_1hr_2003.nc',\n",
       " '/mnt/d/JupyterLab/Yuksek_Lisans/msc_thesis_data/cosmo/yearly/BC/BC_QDM_Tr011_MPI_RF_PR_JJA_1hr_2004.nc',\n",
       " '/mnt/d/JupyterLab/Yuksek_Lisans/msc_thesis_data/cosmo/yearly/BC/BC_QDM_Tr011_MPI_RF_PR_JJA_1hr_2005.nc']"
      ]
     },
     "execution_count": 4,
     "metadata": {},
     "output_type": "execute_result"
    }
   ],
   "source": [
    "year_range = np.arange(1985, 2006)\n",
    "yearly_paths = glob(fr'{path_general}/cosmo/yearly/BC/BC_{bias_algo}_Tr011_MPI_RF_PR_{season}_1hr*')\n",
    "yearly_paths = yearly_paths[:21] # drop clipped and merged data, check here\n",
    "yearly_paths"
   ]
  },
  {
   "cell_type": "markdown",
   "id": "226aca8d-8847-4344-9803-7dc9dafb6c15",
   "metadata": {},
   "source": [
    "### 1.2 Shapefile"
   ]
  },
  {
   "cell_type": "code",
   "execution_count": 5,
   "id": "e9abefc4-b20a-44cd-82a3-842f5bab7d1b",
   "metadata": {},
   "outputs": [],
   "source": [
    "def clip_to_city(data, shapefile):\n",
    "    \n",
    "    clipped = data.rio.clip(shapefile.geometry.apply(mapping),\n",
    "                            shapefile.crs, all_touched=True, \n",
    "                            invert=False, from_disk=True)\n",
    "    \n",
    "    return clipped"
   ]
  },
  {
   "cell_type": "code",
   "execution_count": 6,
   "id": "c9e0ccec-2864-45c4-bf55-b962e41ecd49",
   "metadata": {},
   "outputs": [],
   "source": [
    "path_shape = fr'data/shapefiles/Iller_HGK_6360_Kanun_Sonrasi.shp'\n",
    "shape_tr = gpd.read_file(path_shape)"
   ]
  },
  {
   "cell_type": "code",
   "execution_count": 7,
   "id": "55d114f7-49fb-4e54-933e-db486a76b978",
   "metadata": {},
   "outputs": [
    {
     "name": "stdout",
     "output_type": "stream",
     "text": [
      "data open\n",
      "/mnt/d/JupyterLab/Yuksek_Lisans/msc_thesis_data/cosmo/yearly/BC/BC_QDM_Tr011_MPI_RF_PR_JJA_1hr_1985.nc\n",
      "data open\n",
      "/mnt/d/JupyterLab/Yuksek_Lisans/msc_thesis_data/cosmo/yearly/BC/BC_QDM_Tr011_MPI_RF_PR_JJA_1hr_1986.nc\n",
      "data open\n",
      "/mnt/d/JupyterLab/Yuksek_Lisans/msc_thesis_data/cosmo/yearly/BC/BC_QDM_Tr011_MPI_RF_PR_JJA_1hr_1987.nc\n",
      "data open\n",
      "/mnt/d/JupyterLab/Yuksek_Lisans/msc_thesis_data/cosmo/yearly/BC/BC_QDM_Tr011_MPI_RF_PR_JJA_1hr_1988.nc\n",
      "data open\n",
      "/mnt/d/JupyterLab/Yuksek_Lisans/msc_thesis_data/cosmo/yearly/BC/BC_QDM_Tr011_MPI_RF_PR_JJA_1hr_1989.nc\n",
      "data open\n",
      "/mnt/d/JupyterLab/Yuksek_Lisans/msc_thesis_data/cosmo/yearly/BC/BC_QDM_Tr011_MPI_RF_PR_JJA_1hr_1990.nc\n",
      "data open\n",
      "/mnt/d/JupyterLab/Yuksek_Lisans/msc_thesis_data/cosmo/yearly/BC/BC_QDM_Tr011_MPI_RF_PR_JJA_1hr_1991.nc\n",
      "data open\n",
      "/mnt/d/JupyterLab/Yuksek_Lisans/msc_thesis_data/cosmo/yearly/BC/BC_QDM_Tr011_MPI_RF_PR_JJA_1hr_1992.nc\n",
      "data open\n",
      "/mnt/d/JupyterLab/Yuksek_Lisans/msc_thesis_data/cosmo/yearly/BC/BC_QDM_Tr011_MPI_RF_PR_JJA_1hr_1993.nc\n",
      "data open\n",
      "/mnt/d/JupyterLab/Yuksek_Lisans/msc_thesis_data/cosmo/yearly/BC/BC_QDM_Tr011_MPI_RF_PR_JJA_1hr_1994.nc\n",
      "data open\n",
      "/mnt/d/JupyterLab/Yuksek_Lisans/msc_thesis_data/cosmo/yearly/BC/BC_QDM_Tr011_MPI_RF_PR_JJA_1hr_1995.nc\n",
      "data open\n",
      "/mnt/d/JupyterLab/Yuksek_Lisans/msc_thesis_data/cosmo/yearly/BC/BC_QDM_Tr011_MPI_RF_PR_JJA_1hr_1996.nc\n",
      "data open\n",
      "/mnt/d/JupyterLab/Yuksek_Lisans/msc_thesis_data/cosmo/yearly/BC/BC_QDM_Tr011_MPI_RF_PR_JJA_1hr_1997.nc\n",
      "data open\n",
      "/mnt/d/JupyterLab/Yuksek_Lisans/msc_thesis_data/cosmo/yearly/BC/BC_QDM_Tr011_MPI_RF_PR_JJA_1hr_1998.nc\n",
      "data open\n",
      "/mnt/d/JupyterLab/Yuksek_Lisans/msc_thesis_data/cosmo/yearly/BC/BC_QDM_Tr011_MPI_RF_PR_JJA_1hr_1999.nc\n",
      "data open\n",
      "/mnt/d/JupyterLab/Yuksek_Lisans/msc_thesis_data/cosmo/yearly/BC/BC_QDM_Tr011_MPI_RF_PR_JJA_1hr_2000.nc\n",
      "data open\n",
      "/mnt/d/JupyterLab/Yuksek_Lisans/msc_thesis_data/cosmo/yearly/BC/BC_QDM_Tr011_MPI_RF_PR_JJA_1hr_2001.nc\n",
      "data open\n",
      "/mnt/d/JupyterLab/Yuksek_Lisans/msc_thesis_data/cosmo/yearly/BC/BC_QDM_Tr011_MPI_RF_PR_JJA_1hr_2002.nc\n",
      "data open\n",
      "/mnt/d/JupyterLab/Yuksek_Lisans/msc_thesis_data/cosmo/yearly/BC/BC_QDM_Tr011_MPI_RF_PR_JJA_1hr_2003.nc\n",
      "data open\n",
      "/mnt/d/JupyterLab/Yuksek_Lisans/msc_thesis_data/cosmo/yearly/BC/BC_QDM_Tr011_MPI_RF_PR_JJA_1hr_2004.nc\n",
      "data open\n",
      "/mnt/d/JupyterLab/Yuksek_Lisans/msc_thesis_data/cosmo/yearly/BC/BC_QDM_Tr011_MPI_RF_PR_JJA_1hr_2005.nc\n"
     ]
    }
   ],
   "source": [
    "wet_hour_mm = 0.1\n",
    "\n",
    "for year, year_path in enumerate(yearly_paths):\n",
    "    \n",
    "    # open data\n",
    "    dt_model = xr.open_dataset(year_path)\n",
    "    \n",
    "    print('data open')\n",
    "    \n",
    "    # adjust model values below threshold to 0 (burayı ayrı bir yerde yap)\n",
    "    #dt_model['scen'] = dt_model['scen'].where(dt_model['scen']>wet_hour_mm, \n",
    "    #                                    0\n",
    "    #                                   )\n",
    "    \n",
    "    # clip to turkey\n",
    "    dt_model_clipped = clip_to_city(utils.assign_proj_to_model(dt_model.transpose('time', 'rlat', 'rlon')), shape_tr)\n",
    "    dt_model_clipped = dt_model_clipped.rename({'scen':'TOT_PREC'}).copy(deep=True)\n",
    "    \n",
    "    #dt_model.close()\n",
    "    dt_model_clipped.to_netcdf(fr\"{path_general}/cosmo/yearly/BC/BC_{bias_algo}_Tr011_MPI_RF_PR_{season}_1hr_clipped_{year_range[year]}.nc\",\n",
    "                              )\n",
    "    \n",
    "    print(year_path)"
   ]
  },
  {
   "cell_type": "code",
   "execution_count": 8,
   "id": "e01de709-35cf-4997-a6c9-4c8342d3ea1a",
   "metadata": {},
   "outputs": [
    {
     "data": {
      "text/plain": [
       "<matplotlib.collections.QuadMesh at 0x7faa77d55880>"
      ]
     },
     "execution_count": 8,
     "metadata": {},
     "output_type": "execute_result"
    },
    {
     "data": {
      "image/png": "[encoded data removed]",
      "text/plain": [
       "<Figure size 640x480 with 2 Axes>"
      ]
     },
     "metadata": {},
     "output_type": "display_data"
    }
   ],
   "source": [
    "dt_model_clipped['TOT_PREC'].sum(dim='time').plot()"
   ]
  },
  {
   "cell_type": "code",
   "execution_count": null,
   "id": "6a76897d-e637-492c-a43a-3b8e66659759",
   "metadata": {},
   "outputs": [],
   "source": []
  }
 ],
 "metadata": {
  "kernelspec": {
   "display_name": "Python 3 (ipykernel)",
   "language": "python",
   "name": "python3"
  },
  "language_info": {
   "codemirror_mode": {
    "name": "ipython",
    "version": 3
   },
   "file_extension": ".py",
   "mimetype": "text/x-python",
   "name": "python",
   "nbconvert_exporter": "python",
   "pygments_lexer": "ipython3",
   "version": "3.9.7"
  }
 },
 "nbformat": 4,
 "nbformat_minor": 5
}
