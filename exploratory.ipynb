{
 "cells": [
  {
   "cell_type": "markdown",
   "id": "848c998c-b686-425a-83ae-bd2563d12a42",
   "metadata": {},
   "source": [
    "## 0. Import Libraries"
   ]
  },
  {
   "cell_type": "code",
   "execution_count": 151,
   "id": "e09a77e1-6622-4ab7-89a9-ad77424052a2",
   "metadata": {},
   "outputs": [],
   "source": [
    "import climextremes\n",
    "import numpy as np\n",
    "import pandas as pd"
   ]
  },
  {
   "cell_type": "markdown",
   "id": "8fa6d6a4-d5da-44b3-8bff-893f06c70795",
   "metadata": {},
   "source": [
    "## 1. Open Data"
   ]
  },
  {
   "cell_type": "code",
   "execution_count": 5,
   "id": "fd97c8cb-9a0b-449b-92a9-838f20f2cd80",
   "metadata": {},
   "outputs": [],
   "source": [
    "dt = climextremes.Fort"
   ]
  },
  {
   "cell_type": "code",
   "execution_count": 6,
   "id": "a2a3d7d0-da6e-40d0-8663-0c78fcd684d8",
   "metadata": {},
   "outputs": [
    {
     "data": {
      "text/html": [
       "<div>\n",
       "<style scoped>\n",
       "    .dataframe tbody tr th:only-of-type {\n",
       "        vertical-align: middle;\n",
       "    }\n",
       "\n",
       "    .dataframe tbody tr th {\n",
       "        vertical-align: top;\n",
       "    }\n",
       "\n",
       "    .dataframe thead th {\n",
       "        text-align: right;\n",
       "    }\n",
       "</style>\n",
       "<table border=\"1\" class=\"dataframe\">\n",
       "  <thead>\n",
       "    <tr style=\"text-align: right;\">\n",
       "      <th></th>\n",
       "      <th>obs</th>\n",
       "      <th>tobs</th>\n",
       "      <th>month</th>\n",
       "      <th>day</th>\n",
       "      <th>year</th>\n",
       "      <th>Prec</th>\n",
       "    </tr>\n",
       "  </thead>\n",
       "  <tbody>\n",
       "    <tr>\n",
       "      <th>1</th>\n",
       "      <td>1.0</td>\n",
       "      <td>1.0</td>\n",
       "      <td>1.0</td>\n",
       "      <td>1.0</td>\n",
       "      <td>1900.0</td>\n",
       "      <td>0.0</td>\n",
       "    </tr>\n",
       "    <tr>\n",
       "      <th>2</th>\n",
       "      <td>2.0</td>\n",
       "      <td>2.0</td>\n",
       "      <td>1.0</td>\n",
       "      <td>2.0</td>\n",
       "      <td>1900.0</td>\n",
       "      <td>0.0</td>\n",
       "    </tr>\n",
       "    <tr>\n",
       "      <th>3</th>\n",
       "      <td>3.0</td>\n",
       "      <td>3.0</td>\n",
       "      <td>1.0</td>\n",
       "      <td>3.0</td>\n",
       "      <td>1900.0</td>\n",
       "      <td>0.0</td>\n",
       "    </tr>\n",
       "    <tr>\n",
       "      <th>4</th>\n",
       "      <td>4.0</td>\n",
       "      <td>4.0</td>\n",
       "      <td>1.0</td>\n",
       "      <td>4.0</td>\n",
       "      <td>1900.0</td>\n",
       "      <td>0.0</td>\n",
       "    </tr>\n",
       "    <tr>\n",
       "      <th>5</th>\n",
       "      <td>5.0</td>\n",
       "      <td>5.0</td>\n",
       "      <td>1.0</td>\n",
       "      <td>5.0</td>\n",
       "      <td>1900.0</td>\n",
       "      <td>0.0</td>\n",
       "    </tr>\n",
       "    <tr>\n",
       "      <th>...</th>\n",
       "      <td>...</td>\n",
       "      <td>...</td>\n",
       "      <td>...</td>\n",
       "      <td>...</td>\n",
       "      <td>...</td>\n",
       "      <td>...</td>\n",
       "    </tr>\n",
       "    <tr>\n",
       "      <th>36520</th>\n",
       "      <td>36520.0</td>\n",
       "      <td>361.0</td>\n",
       "      <td>12.0</td>\n",
       "      <td>27.0</td>\n",
       "      <td>1999.0</td>\n",
       "      <td>0.0</td>\n",
       "    </tr>\n",
       "    <tr>\n",
       "      <th>36521</th>\n",
       "      <td>36521.0</td>\n",
       "      <td>362.0</td>\n",
       "      <td>12.0</td>\n",
       "      <td>28.0</td>\n",
       "      <td>1999.0</td>\n",
       "      <td>0.0</td>\n",
       "    </tr>\n",
       "    <tr>\n",
       "      <th>36522</th>\n",
       "      <td>36522.0</td>\n",
       "      <td>363.0</td>\n",
       "      <td>12.0</td>\n",
       "      <td>29.0</td>\n",
       "      <td>1999.0</td>\n",
       "      <td>0.0</td>\n",
       "    </tr>\n",
       "    <tr>\n",
       "      <th>36523</th>\n",
       "      <td>36523.0</td>\n",
       "      <td>364.0</td>\n",
       "      <td>12.0</td>\n",
       "      <td>30.0</td>\n",
       "      <td>1999.0</td>\n",
       "      <td>0.0</td>\n",
       "    </tr>\n",
       "    <tr>\n",
       "      <th>36524</th>\n",
       "      <td>36524.0</td>\n",
       "      <td>365.0</td>\n",
       "      <td>12.0</td>\n",
       "      <td>31.0</td>\n",
       "      <td>1999.0</td>\n",
       "      <td>0.0</td>\n",
       "    </tr>\n",
       "  </tbody>\n",
       "</table>\n",
       "<p>36524 rows × 6 columns</p>\n",
       "</div>"
      ],
      "text/plain": [
       "           obs   tobs  month   day    year  Prec\n",
       "1          1.0    1.0    1.0   1.0  1900.0   0.0\n",
       "2          2.0    2.0    1.0   2.0  1900.0   0.0\n",
       "3          3.0    3.0    1.0   3.0  1900.0   0.0\n",
       "4          4.0    4.0    1.0   4.0  1900.0   0.0\n",
       "5          5.0    5.0    1.0   5.0  1900.0   0.0\n",
       "...        ...    ...    ...   ...     ...   ...\n",
       "36520  36520.0  361.0   12.0  27.0  1999.0   0.0\n",
       "36521  36521.0  362.0   12.0  28.0  1999.0   0.0\n",
       "36522  36522.0  363.0   12.0  29.0  1999.0   0.0\n",
       "36523  36523.0  364.0   12.0  30.0  1999.0   0.0\n",
       "36524  36524.0  365.0   12.0  31.0  1999.0   0.0\n",
       "\n",
       "[36524 rows x 6 columns]"
      ]
     },
     "execution_count": 6,
     "metadata": {},
     "output_type": "execute_result"
    }
   ],
   "source": [
    "dt"
   ]
  },
  {
   "cell_type": "code",
   "execution_count": 7,
   "id": "1413dc14-24ec-42f1-9e51-afafba83a296",
   "metadata": {},
   "outputs": [
    {
     "data": {
      "text/plain": [
       "count    36524.000000\n",
       "mean         0.041814\n",
       "std          0.166767\n",
       "min          0.000000\n",
       "25%          0.000000\n",
       "50%          0.000000\n",
       "75%          0.000000\n",
       "max          4.630000\n",
       "Name: Prec, dtype: float64"
      ]
     },
     "execution_count": 7,
     "metadata": {},
     "output_type": "execute_result"
    }
   ],
   "source": [
    "dt['Prec'].describe()"
   ]
  },
  {
   "cell_type": "markdown",
   "id": "a23a44dc-e5f9-40e5-bad5-dbeed02719b0",
   "metadata": {},
   "source": [
    "## 3. Basic Explanations"
   ]
  },
  {
   "cell_type": "markdown",
   "id": "311a5fe4-b166-4d3c-8a3f-8e05fe757315",
   "metadata": {},
   "source": [
    "**single block:** for Block Maximum approach think single block as a *one-year* (since there are yearly extreme values and a single block corresponds to each of these years). The definition for POT approaches can differ (i.e., monthly instead of yearly)."
   ]
  },
  {
   "cell_type": "markdown",
   "id": "aeee8951-a455-42a6-8aa8-523b179b5a68",
   "metadata": {},
   "source": [
    "**The return probability** is the probability of exceeding the return value in a single block."
   ]
  },
  {
   "cell_type": "markdown",
   "id": "09498689-1192-434b-b0e0-4f69c6e37107",
   "metadata": {},
   "source": [
    "**The return period** is the average number of blocks expected to occur before the return value is exceeded and is equal to the inverse of **the probability of exceeding** the return value in a single block"
   ]
  },
  {
   "cell_type": "markdown",
   "id": "0ae0fb7c-439c-4cd5-b0a5-31be5010d1e6",
   "metadata": {},
   "source": [
    "**The return value** is the value for which the expected number of blocks until an event that exceeds that value is equal to the **return period**"
   ]
  },
  {
   "cell_type": "markdown",
   "id": "500eef6c-5e54-4c6a-b8b2-ebe938443b0e",
   "metadata": {},
   "source": [
    "**asymptotic distribution:** an asymptotic distribution exists if the probability distribution of Zi converges to a probability distribution (the asymptotic distribution) as i increases: see convergence in distribution. Read asymptotics as “what happens to the thing I’m estimating as my sample gets big? Approaching to the true distribution"
   ]
  },
  {
   "cell_type": "markdown",
   "id": "04f385a9-83f1-4428-95b9-7b7e973b6b48",
   "metadata": {},
   "source": [
    "In simple terms, any statistic can be a **point estimate**. A statistic is an estimator of some parameter in a population. For example:\n",
    "\n",
    "- The sample standard deviation (s) is a *point estimate* of the population standard deviation (σ).\n",
    "- The sample mean (̄x) is a *point estimate* of the population mean, μ.\n",
    "- The sample variance (s2) is a *point estimate* of the population variance (σ2).\n",
    "\n",
    "In more formal terms, the estimate occurs as a result of point estimation applied to a set of sample data. Points are single values, in comparison to **interval estimates**, which are a range of values. For example, a confidence interval is one example of an interval estimate."
   ]
  },
  {
   "cell_type": "markdown",
   "id": "9c1e8610-8bbd-4c5a-82c9-64defd2e444e",
   "metadata": {},
   "source": [
    "**The delta method** is a general method for deriving the variance of a function of asymptotically normal random variables with known variance"
   ]
  },
  {
   "cell_type": "markdown",
   "id": "bff153ae-fb50-49c0-b7c3-4b63d6e0b513",
   "metadata": {},
   "source": [
    "There are a number of ways to compute the standard errors for the margins of a regression. It might be possible to derive a probability density function for the margin itself, but that’s perhaps a huge pain and might not even exist. It is also possible to use simulation or **bootstrapping** to create **standard errors** for the margin."
   ]
  },
  {
   "cell_type": "markdown",
   "id": "a9071fa7-a70a-40d3-a2b9-c44f45c18d96",
   "metadata": {},
   "source": [
    "Why we use **log-return-periods(probability)**:\n",
    "- log-normality\n",
    "- approximate raw-log equality\n",
    "- time-additivity\n",
    "- mathematical ease\n",
    "- numerical stability <br>\n",
    "\n",
    "ref: [ref1](https://quantivity.wordpress.com/2011/02/21/why-log-returns/),\n",
    "[ref2](https://gregorygundersen.com/blog/2022/02/06/log-returns/)"
   ]
  },
  {
   "cell_type": "markdown",
   "id": "d7ccafb6-1402-4b03-80f8-89cc37112b2f",
   "metadata": {},
   "source": [
    "According to this definition, any variable that is measurable and considered to have a statistical relationship with the dependent variable would qualify as a potential **covariate**. A **covariate** is thus a possible predictive or explanatory variable of the dependent variable."
   ]
  },
  {
   "cell_type": "markdown",
   "id": "b9bbbd98-eaf3-4184-8654-d10b91fdac16",
   "metadata": {},
   "source": [
    "**The binomial distribution** is the discrete probability distribution that gives only two possible results in an experiment, either success or failure"
   ]
  },
  {
   "cell_type": "markdown",
   "id": "3a9c3cc4-e9ab-4304-a7dc-b3f9fb1eadda",
   "metadata": {},
   "source": [
    "**A risk ratio (RR)**, also called **relative risk**, compares the risk of a health event (disease, injury, risk factor, or death) among one group with the risk among another group. It does so by dividing the risk (incidence proportion, attack rate) in group 1 by the risk (incidence proportion, attack rate) in group 2\n",
    "\n",
    "For our work: it is for counts of events relative to possible number of events (binomial). **The risk ratio** is the ratio of the probability of an event under the model fit to the first dataset to the probability under the model fit to the second dataset"
   ]
  },
  {
   "cell_type": "markdown",
   "id": "f4f3e56a-62ce-4e56-9134-086581ccb01f",
   "metadata": {},
   "source": [
    "**Maximum likelihood estimation (MLE)** is a method that determines values for the parameters of a model. The parameter values are found such that they maximise the likelihood that the process described by the model produced the data that were actually observed.\n",
    "\n",
    "There is a technique that can help us find maxima (and minima) of functions. It’s called **differentiation**. All we have to do is find the **derivative** of the function, set the derivative function to zero and then rearrange the equation to make the parameter of interest the subject of the equation. And voilà, we’ll have our **MLE** values for our parameters.\n",
    "\n",
    "Ref: [ref](https://towardsdatascience.com/probability-concepts-explained-maximum-likelihood-estimation-c7b4342fdbb1)"
   ]
  },
  {
   "cell_type": "markdown",
   "id": "a6747d92-7b56-4be3-8083-04ae7b5a1538",
   "metadata": {},
   "source": [
    "**MLE** is **asymtoptically** efficient: in the limit, a maximum likelihood estimator achieves minimum possible variance"
   ]
  },
  {
   "cell_type": "markdown",
   "id": "38d11dc4-9fb5-4452-a4b6-3cb277e80d88",
   "metadata": {},
   "source": [
    "**Bootstrapping** is a statistical procedure that resamples a single dataset to create many simulated samples. This process allows you to calculate **standard errors**, construct **confidence intervals**, and perform hypothesis testing for numerous types of sample statistics. **Bootstrap** methods are alternative approaches to traditional hypothesis testing and are notable for being easier to understand and valid for more conditions.\n",
    "\n",
    "Ref: [ref](https://statisticsbyjim.com/hypothesis-testing/bootstrapping/)"
   ]
  },
  {
   "cell_type": "markdown",
   "id": "514e8a93-8ada-4b72-b726-63f90dc97182",
   "metadata": {},
   "source": [
    "In statistics, **the likelihood-ratio test** assesses the goodness of fit of two competing statistical models based on the ratio of their likelihoods, specifically one found by maximization over the entire parameter space and another found after imposing some constraint."
   ]
  },
  {
   "cell_type": "markdown",
   "id": "ff403cfe-3870-416a-aef2-f451a09d5064",
   "metadata": {},
   "source": [
    "**A confidence interval**, in statistics, refers to the probability that a population parameter will fall between a set of values for a certain proportion of times. Analysts often use confidence intervals than contain either 95% or 99% of expected observations. Thus, if a point estimate is generated from a statistical model of 10.00 with a 95% confidence interval of 9.50 - 10.50, it can be inferred that there is a 95% probability that the true value falls within that range.\n",
    "\n",
    "They are also used in **hypothesis testing** and regression analysis.\n",
    "Statisticians often use **p-values** in conjunction with **confidence intervals** to gauge **statistical significance**."
   ]
  },
  {
   "cell_type": "markdown",
   "id": "f1a0ac89-b5d0-42ce-bce0-5ece485090fe",
   "metadata": {},
   "source": [
    "Note that if only one endpoint of the resulting interval is used, for example the lower bound, then the effective confidence level increases by half of one minus confidence level. For example, a two-sided 0.90 **confidence interval** corresponds to a one-sided 0.95 confidence interval."
   ]
  },
  {
   "cell_type": "markdown",
   "id": "e144a3d6-805f-470a-831d-98243237aeee",
   "metadata": {},
   "source": [
    "***NOW READ: [DOCUMENTATION](https://cran.r-project.org/web/packages/climextRemes/climextRemes.pdf)***"
   ]
  },
  {
   "cell_type": "markdown",
   "id": "937e4aae-c933-424d-8389-07f1e7731675",
   "metadata": {},
   "source": [
    "## 4. Tools"
   ]
  },
  {
   "cell_type": "markdown",
   "id": "ce3b7d22-6c00-4b93-95c3-d625f68f835b",
   "metadata": {},
   "source": [
    "### 3.1 calc_logReturnPeriod_fevd"
   ]
  },
  {
   "cell_type": "code",
   "execution_count": 11,
   "id": "65ec11ec-7e70-46c3-8287-e7aeddb76ce0",
   "metadata": {},
   "outputs": [
    {
     "name": "stdout",
     "output_type": "stream",
     "text": [
      "Help on function calc_logReturnPeriod_fevd:\n",
      "\n",
      "calc_logReturnPeriod_fevd(fit=None, returnValue=None, covariates=None, upper=False)\n",
      "    Calculates log return period and standard error given return value(s) of interest \n",
      "    \n",
      "    **description**\n",
      "    \n",
      "     Calculates log return period given return value(s) of interest, using model fit from  extRemes::fevd . Standard error is obtained via the delta method. The return period is the average number of blocks expected to occur before the return value is exceeded and is equal to the inverse of the probability of exceeding the return value in a single block. For non-stationary models (those that include covariates for the location, scale, and/or shape parameters, log return periods and standard errors are returned for as many sets of covariates as provided.\n",
      "    \n",
      "    **arguments**\n",
      "    \n",
      "     fit: fitted object from extRemes fevd\n",
      "    \n",
      "     returnValue: value(s) for which return period is desired\n",
      "    \n",
      "     covariates: matrix of covariate values, each row a set of covariates for which the log return period is desired\n",
      "    \n",
      "     upper: logical value indicating whether upper tail or lower tail is being considered\n",
      "    \n",
      "    \n",
      "    \n",
      "    **details**\n",
      "    \n",
      "     Results are calculated (and returned) on log scale as delta-method based standard errors are more accurate for the log period. Confidence intervals on the return period scale should be calculated by calculating a confidence interval for the log return period and exponentiating the endpoints of the interval.\n",
      "\n"
     ]
    }
   ],
   "source": [
    "help(climextremes.calc_logReturnPeriod_fevd)"
   ]
  },
  {
   "cell_type": "markdown",
   "id": "2974eaaf-3b8e-41bf-a781-9c04fa82b78f",
   "metadata": {},
   "source": [
    "### 3.2 calc_logReturnProbDiff_fevd"
   ]
  },
  {
   "cell_type": "code",
   "execution_count": 12,
   "id": "b461cadb-713b-41d3-8f65-dbca47e48e0a",
   "metadata": {},
   "outputs": [
    {
     "name": "stdout",
     "output_type": "stream",
     "text": [
      "Help on function calc_logReturnProbDiff_fevd:\n",
      "\n",
      "calc_logReturnProbDiff_fevd(fit=None, returnValue=None, covariates1=None, covariates2=None, getSE=True, scaling=1.0, upper=False)\n",
      "    Calculates log return probability difference for two sets of covariates and standard error of difference given return value(s) of interest \n",
      "    \n",
      "    **description**\n",
      "    \n",
      "     Calculates difference in log return probabilities for two sets of covariates given return value(s) of interest, using model fit from  extRemes::fevd . Standard error is obtained via the delta method. The return probability is the probability of exceeding the return value in a single block. Differences and standard errors are returned for as many contrasts between covariate sets as provided.\n",
      "    \n",
      "    **arguments**\n",
      "    \n",
      "     fit: fitted object from extRemes fevd\n",
      "    \n",
      "     returnValue: value(s) for which the log return probability difference is desired\n",
      "    \n",
      "     covariates1: matrix of covariate values, each row a set of covariates for which the log return probability difference relative to the corresponding row of covariates2 is desired\n",
      "    \n",
      "     covariates2: matrix of covariate values, each row a set of covariates\n",
      "    \n",
      "     getSE: logical indicating whether standard error is desired, in addition to the point estimate\n",
      "    \n",
      "     scaling: if returnValue is scaled for numerics, this allows names of output to be on original scale\n",
      "    \n",
      "     upper: logical value indicating whether upper tail or lower tail is being considered\n",
      "    \n",
      "    \n",
      "    \n",
      "    **details**\n",
      "    \n",
      "     Results are calculated (and returned) on log scale as delta-method based standard errors are more accurate for the log probability. Confidence intervals for the ratio of return probabilities should be calculated by calculating a confidence interval for the log probability difference and exponentiating the endpoints of the interval.\n",
      "    \n",
      "     This is designed to calculate differences in log return probabilities and associated standard errors for different covariate values based on the same model fit. It is not designed for differences based on separate model fits, although it may be possible handle this case by' fit 'two models in a single model specification using dummy variables.\n",
      "\n"
     ]
    }
   ],
   "source": [
    "help(climextremes.calc_logReturnProbDiff_fevd)"
   ]
  },
  {
   "cell_type": "markdown",
   "id": "9adc8d08-5a3f-40da-9eed-bca048be5b01",
   "metadata": {},
   "source": [
    "### 3.3 calc_logReturnProb_fevd"
   ]
  },
  {
   "cell_type": "code",
   "execution_count": 14,
   "id": "8b42fb3a-9331-4cfd-8d96-57ae1a1ca111",
   "metadata": {},
   "outputs": [
    {
     "name": "stdout",
     "output_type": "stream",
     "text": [
      "Help on function calc_logReturnProb_fevd:\n",
      "\n",
      "calc_logReturnProb_fevd(fit=None, returnValue=None, covariates=None, getSE=True, scaling=1.0, upper=False)\n",
      "    Calculates log return probability and standard error given return value(s) of interest \n",
      "    \n",
      "    **description**\n",
      "    \n",
      "     Calculates log return probability given return value(s) of interest, using model fit from  extRemes::fevd . Standard error is obtained via the delta method. The return probability is the probability of exceeding the return value in a single block. For non-stationary models (those that include covariates for the location, scale, and/or shape parameters, log probabilities and standard errors are returned for as many sets of covariates as provided.\n",
      "    \n",
      "    **arguments**\n",
      "    \n",
      "     fit: fitted object from extRemes fevd\n",
      "    \n",
      "     returnValue: value(s) for which log return probability is desired\n",
      "    \n",
      "     covariates: matrix of covariate values, each row a set of covariates for which the return probability is desired\n",
      "    \n",
      "     getSE: logical indicating whether standard error is desired, in addition to the point estimate\n",
      "    \n",
      "     scaling: if returnValue is scaled for numerics, this allows names of output to be on original scale\n",
      "    \n",
      "     upper: logical value indicating whether upper tail or lower tail is being considered\n",
      "    \n",
      "    \n",
      "    \n",
      "    **details**\n",
      "    \n",
      "     Results are calculated (and returned) on log scale as delta-method based standard errors are more accurate for the log probability. Confidence intervals on the probability scale should be calculated by calculating a confidence interval for the log probability and exponentiating the endpoints of the interval.\n",
      "\n"
     ]
    }
   ],
   "source": [
    "help(climextremes.calc_logReturnProb_fevd)"
   ]
  },
  {
   "cell_type": "markdown",
   "id": "8a43f761-cc80-432a-ba7a-1fc26de2223d",
   "metadata": {},
   "source": [
    "### 3.4 calc_returnValueDiff_fevd"
   ]
  },
  {
   "cell_type": "code",
   "execution_count": 15,
   "id": "7a7ba04c-d4e0-4da8-b8d3-0465c3faf5d9",
   "metadata": {},
   "outputs": [
    {
     "name": "stdout",
     "output_type": "stream",
     "text": [
      "Help on function calc_returnValueDiff_fevd:\n",
      "\n",
      "calc_returnValueDiff_fevd(fit=None, returnPeriod=None, covariates1=None, covariates2=None, getSE=True)\n",
      "    Calculates return value difference for two sets of covariates and standard error of difference given return period(s) of interest \n",
      "    \n",
      "    **description**\n",
      "    \n",
      "     Calculates difference in return values (also known as return levels) for two sets of covariates given return period(s) of interest, using model fit from  extRemes::fevd . Standard error is obtained via the delta method. The return value is the value for which the expected number of blocks until an event that exceeds that value is equal to the return period. Differences and standard errors are returned for as many contrasts between covariate sets as provided.\n",
      "    \n",
      "    **arguments**\n",
      "    \n",
      "     fit: fitted object from extRemes fevd\n",
      "    \n",
      "     returnPeriod: value(s) for which return value difference is desired\n",
      "    \n",
      "     covariates1: matrix of covariate values, each row a set of covariates for which the return value difference relative to the corresponding row of covariates2 is desired\n",
      "    \n",
      "     covariates2: matrix of covariate values, each row a set of covariates\n",
      "    \n",
      "     getSE: logical indicating whether standard error is desired, in addition to the point estimate\n",
      "    \n",
      "    \n",
      "    \n",
      "    **details**\n",
      "    \n",
      "     This is designed to calculate differences in return values and associated standard errors for different covariate values based on the same model fit. It is not designed for differences based on separate model fits, although it may be possible handle this case by' fit 'two models in a single model specification using dummy variables.\n",
      "\n"
     ]
    }
   ],
   "source": [
    "help(climextremes.calc_returnValueDiff_fevd)"
   ]
  },
  {
   "cell_type": "markdown",
   "id": "7478f2f7-e583-4ffa-a743-b01bb98be6e1",
   "metadata": {},
   "source": [
    "### 3.5 calc_returnValue_fevd"
   ]
  },
  {
   "cell_type": "code",
   "execution_count": 17,
   "id": "59ec9f1c-740e-428f-991b-b20f21ef0991",
   "metadata": {},
   "outputs": [
    {
     "name": "stdout",
     "output_type": "stream",
     "text": [
      "Help on function calc_returnValue_fevd:\n",
      "\n",
      "calc_returnValue_fevd(fit=None, returnPeriod=None, covariates=None)\n",
      "    Calculates return value and standard error given return period(s) of interest \n",
      "    \n",
      "    **description**\n",
      "    \n",
      "     Calculates return value (also known as the return level) given return period(s) of interest, using model fit from  extRemes::fevd . Standard error is obtained via the delta method. The return value is the value for which the expected number of blocks until an event that exceeds that value is equal to the return period. For non-stationary models (those that include covariates for the location, scale, and/or shape parameters, return values and standard errors are returned for as many sets of covariates as provided.\n",
      "    \n",
      "    **arguments**\n",
      "    \n",
      "     fit: fitted object from extRemes fevd\n",
      "    \n",
      "     returnPeriod: value(s) for which return value is desired\n",
      "    \n",
      "     covariates: matrix of covariate values, each row a set of covariates for which the return value is desired\n",
      "\n"
     ]
    }
   ],
   "source": [
    "help(climextremes.calc_returnValue_fevd)"
   ]
  },
  {
   "cell_type": "markdown",
   "id": "2762441c-fd0d-49f0-93a2-0a54ae30f5d9",
   "metadata": {},
   "source": [
    "### 3.6 calc_riskRatio_binom"
   ]
  },
  {
   "cell_type": "code",
   "execution_count": 18,
   "id": "ecfeb284-527d-458b-8166-8f1f1f20d1eb",
   "metadata": {},
   "outputs": [
    {
     "name": "stdout",
     "output_type": "stream",
     "text": [
      "Help on function calc_riskRatio_binom:\n",
      "\n",
      "calc_riskRatio_binom(y=None, n=None, ciLevel=0.9, ciType=None, bootSE=None, bootControl=None, lrtControl=None)\n",
      "    Compute risk ratio and uncertainty based on binomial models for counts of events relative to possible number of events \n",
      "    \n",
      "    **description**\n",
      "    \n",
      "     Compute risk ratio and uncertainty by fitting binomial models to counts of events relative to possible number of events. The risk ratio is the ratio of the probability of an event under the model fit to the first dataset to the probability under the model fit to the second dataset. Default standard errors are based on the usual MLE asymptotics using a delta-method-based approximation, but standard errors based on the nonparametric bootstrap and on a likelihood ratio procedure can also be computed.\n",
      "    \n",
      "    **arguments**\n",
      "    \n",
      "    y: numpy array of two values, the number of events in the two scenarios.\n",
      "    \n",
      "    n: numpy array of two values, the number of samples (possible occurrences of events) in the two scenarios.\n",
      "    \n",
      "    ciLevel: statistical confidence level for confidence intervals; in repeated experimentation, this proportion of confidence intervals should contain the true risk ratio. Note that if only one endpoint of the resulting interval is used, for example the lower bound, then the effective confidence level increases by half of one minus ‘ciLevel’. For example, a two-sided 0.90 confidence interval corresponds to a one-sided 0.95 confidence interval.\n",
      "    \n",
      "    ciType: string or numpy array of strings indicating which type of confidence intervals to compute. See ‘Details'.\n",
      "    \n",
      "    bootSE: boolean indicating whether to use the bootstrap to estimate the standard error of the risk ratio.\n",
      "    \n",
      "    bootControl: dictionary of control parameters for the bootstrapping, used only when at least one bootstrap confidence interval is requested via ‘ciType’. See ‘Details’.\n",
      "    \n",
      "    lrtControl: dictionary containing a single component, a numpy array named ‘bounds’, which sets the range inside which the algorithm searches for the endpoints of the likelihood ratio-based confidence interval. This avoids numerical issues with endpoints converging to zero and infinity. If an endpoint is not found within the interval, it is set to ‘nan’. Used only when ‘'lrt'’ is one of the ‘ciType’ values.\n",
      "    \n",
      "    **details**\n",
      "    \n",
      "    ' ciType ' can include one or more of the following:  'delta' ,  'koopman' ,  'lrt' ,  'boot_norm' ,  'boot_perc' ,  'boot_basic' ,  'boot_stud' ,  'boot_bca' .  'delta'  uses the delta method to compute an asymptotic interval based on the standard error of the log risk ratio.  'koopman'  uses the method described in Koopman (1984), following the implementation discussed in Fageland et al. (2015), including the calculation of Nam (1995).  'lrt'  inverts a likelihood-ratio test. Bootstrap-based options are the normal-based interval using the bootstrap standard error ( 'boot_norm' ), the percentile bootstrap ( 'boot_perc' ), the basic bootstrap ( 'boot_basic' ), the bootstrap-t ( 'boot_stud' ), and the bootstrap BCA method ( 'boot_bca' ). See Paciorek et al. for more details. \n",
      "    \n",
      "     See  fit_pot  for information on the ' bootControl ' argument.\n",
      "    \n",
      "    **value**\n",
      "    \n",
      "    The primary outputs of this function are as follows: the log of the risk ratio and standard error of that log risk ratio (‘logRiskRatio’ and ‘se_logRiskRatio’) as well the risk ratio itself (‘riskRatio’). The standard error is based on the usual MLE asymptotics using a delta-method-based approximation. If requested via ‘ciType’, confidence intervals will be returned, as discussed in ‘Details’.\n",
      "    \n",
      "    **author**\n",
      "    \n",
      "     Christopher J. Paciorek\n",
      "    \n",
      "    **references**\n",
      "    \n",
      "     Paciorek, C.J., D.A. Stone, and M.F. Wehner. 2018. Quantifying uncertainty in the attribution of human influence on severe weather. Weather and Climate Extremes 20:69-80. arXiv preprint <https://arxiv.org/abs/1706.03388>.\n",
      "    \n",
      "     Koopman, P.A.R. 1984. Confidence intervals for the ratio of two binomial proportions. Biometrics 40: 513-517.\n",
      "    \n",
      "     Fagerland, M.W., S. Lydersen, and P. Laake. 2015. Recommended confidence intervals for two independent binomial proportions. Statistical Methods in Medical Research 24: 224-254.\n",
      "    \n",
      "    **examples**\n",
      "    \n",
      "    >>> result = climextremes.calc_riskRatio_binom(numpy.array((40, 8)), \n",
      "    ...                                            numpy.array((400, 400)),\n",
      "    ...                                            ciType = numpy.array(('lrt', 'boot_stud', 'koopman')))\n",
      "    ... result['logRiskRatio']\n",
      "    ... result['se_logRiskRatio']\n",
      "    ... result['riskRatio']\n",
      "    ... result['ci_riskRatio_lrt']\n",
      "    ... result['ci_riskRatio_koopman']\n",
      "    ... result['ci_riskRatio_boot_stud']\n",
      "    ... \n",
      "    ... # Koopman and LRT method can estimate lower confidence interval endpoint,\n",
      "    ... # even if estimated risk ratio is infinity\n",
      "    ... result = climextremes.calc_riskRatio_binom(numpy.array((4, 0)), \n",
      "    ...                                            numpy.array((100, 100)),\n",
      "    ...                                            ciType = numpy.array(('lrt', 'boot_stud', 'koopman')))\n",
      "    ... result['logRiskRatio']\n",
      "    ... result['se_logRiskRatio']\n",
      "    ... result['riskRatio']\n",
      "    ... result['ci_riskRatio_lrt']\n",
      "    ... result['ci_riskRatio_koopman']\n",
      "    ... result['ci_riskRatio_boot_stud']\n",
      "    ... \n",
      "    ...\n",
      "\n"
     ]
    }
   ],
   "source": [
    "help(climextremes.calc_riskRatio_binom)"
   ]
  },
  {
   "cell_type": "markdown",
   "id": "c7893381-a342-4b62-a6cd-adc282622885",
   "metadata": {},
   "source": [
    "#### 3.6.1 Example"
   ]
  },
  {
   "cell_type": "code",
   "execution_count": 23,
   "id": "a40e4100-b249-4706-838d-7493f72e7383",
   "metadata": {},
   "outputs": [],
   "source": [
    "# risk ratio for 40/400 compared to 8/400 events\n",
    "result = climextremes.calc_riskRatio_binom(np.array((40, 8)), \n",
    "                                           np.array((400, 400)),\n",
    "                                           ciType = np.array(('lrt',\n",
    "                                                              'boot_stud',\n",
    "                                                              'koopman'))\n",
    "                                          )"
   ]
  },
  {
   "cell_type": "code",
   "execution_count": 30,
   "id": "e37a85ca-2930-4cb8-926e-5851c3647117",
   "metadata": {},
   "outputs": [
    {
     "data": {
      "text/plain": [
       "array([1.60943791])"
      ]
     },
     "execution_count": 30,
     "metadata": {},
     "output_type": "execute_result"
    }
   ],
   "source": [
    "# log risk ratio between first and second events\n",
    "result['logRiskRatio']"
   ]
  },
  {
   "cell_type": "code",
   "execution_count": 34,
   "id": "05b19cf3-b47d-46ce-bc49-c13203b4b3fa",
   "metadata": {},
   "outputs": [
    {
     "data": {
      "text/plain": [
       "array([0.38078866])"
      ]
     },
     "execution_count": 34,
     "metadata": {},
     "output_type": "execute_result"
    }
   ],
   "source": [
    "# standard error of log risk ratio (point estimate) based on delta method\n",
    "result['se_logRiskRatio']"
   ]
  },
  {
   "cell_type": "code",
   "execution_count": 35,
   "id": "04dc4b72-10d8-4cfd-a1c6-b0a43d4890b0",
   "metadata": {},
   "outputs": [
    {
     "data": {
      "text/plain": [
       "array([5.])"
      ]
     },
     "execution_count": 35,
     "metadata": {},
     "output_type": "execute_result"
    }
   ],
   "source": [
    "# raw risk ratio between first and second events\n",
    "result['riskRatio']"
   ]
  },
  {
   "cell_type": "code",
   "execution_count": 36,
   "id": "3f556c57-f28e-4494-94e1-0e916861540f",
   "metadata": {},
   "outputs": [
    {
     "data": {
      "text/plain": [
       "array([2.78391806, 9.86604856])"
      ]
     },
     "execution_count": 36,
     "metadata": {},
     "output_type": "execute_result"
    }
   ],
   "source": [
    "# confidence interval of risk ratio based on likelihood ratio test\n",
    "# between events\n",
    "result['ci_riskRatio_lrt']"
   ]
  },
  {
   "cell_type": "code",
   "execution_count": 37,
   "id": "3c52f108-ebf6-47e7-b0bd-3e8260ec133b",
   "metadata": {},
   "outputs": [
    {
     "data": {
      "text/plain": [
       "array([2.70619164, 9.27887211])"
      ]
     },
     "execution_count": 37,
     "metadata": {},
     "output_type": "execute_result"
    }
   ],
   "source": [
    "# confidence interval of risk ratio based on koopman method\n",
    "# between events\n",
    "result['ci_riskRatio_koopman']"
   ]
  },
  {
   "cell_type": "code",
   "execution_count": 39,
   "id": "b28f94d0-d77d-4a1b-b159-368ee4c01f75",
   "metadata": {},
   "outputs": [
    {
     "data": {
      "text/plain": [
       "array([ 2.57683507, 10.92551928])"
      ]
     },
     "execution_count": 39,
     "metadata": {},
     "output_type": "execute_result"
    }
   ],
   "source": [
    "# confidence interval of risk ratio based on students t bootstrap\n",
    "# between events\n",
    "result['ci_riskRatio_boot_stud']"
   ]
  },
  {
   "cell_type": "code",
   "execution_count": 40,
   "id": "794942f6-535c-4ced-8599-69a88b168a03",
   "metadata": {},
   "outputs": [],
   "source": [
    "# Koopman and LRT method can estimate lower confidence interval endpoint,\n",
    "# even if estimated risk ratio is infinity\n",
    "# risk ratio for 4/100 compared to 0/100 events\n",
    "result = climextremes.calc_riskRatio_binom(np.array((4, 0)), \n",
    "                                           np.array((100, 100)),\n",
    "                                           ciType = np.array(('lrt',\n",
    "                                                              'koopman'))\n",
    "                                          )"
   ]
  },
  {
   "cell_type": "code",
   "execution_count": 41,
   "id": "b558a1fe-4e63-4a08-b39c-7919fe33a181",
   "metadata": {},
   "outputs": [
    {
     "data": {
      "text/plain": [
       "array([2.51387752,        inf])"
      ]
     },
     "execution_count": 41,
     "metadata": {},
     "output_type": "execute_result"
    }
   ],
   "source": [
    "# confidence interval of risk ratio based on likelihood ratio test\n",
    "# between events\n",
    "result['ci_riskRatio_lrt']"
   ]
  },
  {
   "cell_type": "code",
   "execution_count": 42,
   "id": "ad194343-62dc-4240-b157-24859ea9dc64",
   "metadata": {},
   "outputs": [
    {
     "data": {
      "text/plain": [
       "array([1.50254114,        inf])"
      ]
     },
     "execution_count": 42,
     "metadata": {},
     "output_type": "execute_result"
    }
   ],
   "source": [
    "# confidence interval of risk ratio based on koopman method\n",
    "# between events\n",
    "result['ci_riskRatio_koopman']"
   ]
  },
  {
   "cell_type": "markdown",
   "id": "e741ce99-455f-4e21-b02a-631bbde94775",
   "metadata": {},
   "source": [
    "### 3.7 calc_riskRatio_gev"
   ]
  },
  {
   "cell_type": "code",
   "execution_count": 43,
   "id": "63d5be28-c227-4f16-b197-5e1f690de6e2",
   "metadata": {},
   "outputs": [
    {
     "name": "stdout",
     "output_type": "stream",
     "text": [
      "Help on function calc_riskRatio_gev:\n",
      "\n",
      "calc_riskRatio_gev(returnValue=None, y1=None, y2=None, x1=None, x2=None, locationFun1=None, locationFun2=None, scaleFun1=None, scaleFun2=None, shapeFun1=None, shapeFun2=None, nReplicates1=1.0, nReplicates2=1.0, replicateIndex1=None, replicateIndex2=None, weights1=None, weights2=None, xNew1=None, xNew2=None, maxes=True, scaling1=1.0, scaling2=1.0, ciLevel=0.9, ciType=None, bootSE=None, bootControl=None, lrtControl=None, optimArgs=None, optimControl=None, initial1=None, initial2=None, logScale1=None, logScale2=None, getReturnCalcs=False, getParams=False, getFit=False)\n",
      "    Compute risk ratio and uncertainty based on generalized extreme value model fit to block maxima or minima \n",
      "    \n",
      "    **description**\n",
      "    \n",
      "     Compute risk ratio and uncertainty by fitting generalized extreme value model, designed specifically for climate data, to exceedance-only data, using the point process approach. The risk ratio is the ratio of the probability of exceedance of a pre-specified value under the model fit to the first dataset to the probability under the model fit to the second dataset. Default standard errors are based on the usual MLE asymptotics using a delta-method-based approximation, but standard errors based on the nonparametric bootstrap and on a likelihood ratio procedure can also be computed.\n",
      "    \n",
      "    **arguments**\n",
      "    \n",
      "    returnValue: numeric value giving the value for which the risk ratio should be calculated, where the resulting period will be the average number of blocks until the value is exceeded and the probability the probability of exceeding the value in any single block.\n",
      "    \n",
      "    y1: numpy array of observed maxima or minima values for the first dataset. See ‘Details’ for how the values of ‘y1’ should be ordered if there are multiple replicates and the values of ‘x1’ are identical for all replicates. For better optimization performance, it is recommended that the ‘y1’ have magnitude around one (see ‘Details’), for which one can use ‘scaling1’.\n",
      "    \n",
      "    y2: numpy array of observed maxima or minima values for the second dataset. Analogous to ‘y1’.\n",
      "    \n",
      "    x1: numpy array or pandas data frame with columns corresponding to covariate/predictor/feature variables and each row containing the values of the variable for the corresponding observed maximum/minimum. The number of rows should either equal the length of ‘y1’ or (if there is more than one replicate) it can optionally equal the number of observations in a single replicate, in which case the values will be assumed to be the same for all replicates. \n",
      "    \n",
      "    x2: analogous to ‘x1’ but for the second dataset\n",
      "    \n",
      "    locationFun1: numpy array of either character strings or indices describing a linear model (i.e., regression function) for the location parameter using columns from ‘x1’ for the first dataset. ‘x1’ must be supplied if this is anything other than ‘None’.\n",
      "    \n",
      "    locationFun2: numpy array of either character strings or indices describing a linear model (i.e., regression function) for the location parameter using columns from ‘x2’ for the second dataset. ‘x2’ must be supplied if this is anything other than ‘None’.\n",
      "    \n",
      "    scaleFun1: numpy array of either character strings or indices describing a linear model (i.e., regression function) for the log of the scale parameter using columns from ‘x1’ for the first dataset.  ‘x1’ must be supplied if this is anything other than ‘None’.\n",
      "    \n",
      "    scaleFun2: numpy array of either character strings or indices describing a linear model (i.e., regression function) for the log of the scale parameter using columns from ‘x2’ for the second dataset.  ‘x2’ must be supplied if this is anything other than ‘None’.\n",
      "    \n",
      "    shapeFun1: numpy array of either character strings or indices describing a linear model (i.e., regression function) for the shape parameter using columns from ‘x1’ for the first dataset.  ‘x1’ must be supplied if this is anything other than ‘None’.\n",
      "    \n",
      "    shapeFun2: numpy array of either character strings or indices describing a linear model (i.e., regression function) for the shape parameter using columns from ‘x2’ for the first dataset.  ‘x2’ must be supplied if this is anything other than ‘None’.\n",
      "    \n",
      "    nReplicates1: numeric value indicating the number of replicates for the first dataset.\n",
      "    \n",
      "    nReplicates2: numeric value indicating the number of replicates for the second dataset.\n",
      "    \n",
      "    replicateIndex1: numpy array providing the index of the replicate corresponding to each element of ‘y1’. Used (and therefore required) only when using bootstrapping with the resampling by replicates based on the ‘by’ element of ‘bootControl’.\n",
      "    \n",
      "    replicateIndex2: numpy array providing the index of the replicate corresponding to each element of ‘y2’. Analogous to ‘replicateIndex1’.\n",
      "    \n",
      "    weights1: numpy array providing the weights for each observation in the first dataset. When there is only one replicate or the weights do not vary by replicate, an array of length equal to the number of observations. When weights vary by replicate, this should be of equal length to ‘y’. Likelihood contribution of each observation is multiplied by the corresponding weight. \n",
      "    \n",
      "    weights2: numpy array providing the weights for each observation in the second dataset. Analogous to ‘weights1’.\n",
      "    \n",
      "    xNew1: object of the same form as ‘x1’, providing covariate/predictor/feature values for which one desires log risk ratios.\n",
      "    \n",
      "    xNew2: object of the same form as ‘x2’, providing covariate/predictor/feature values for which log risk ratios are desired. Must provide the same number of covariate sets as ‘xNew1’ as the risk ratio is based on contrasting return probabilities under ‘xNew1’ and ‘xNew2’.\n",
      "    \n",
      "    maxes: boolean indicating whether analysis is for block maxima (‘True’) or block minima (‘False’); in the latter case, the function works with the negative of the values, changing the sign of the resulting location parameters\n",
      "    \n",
      "    scaling1: positive-valued scalar used to scale the data values of the first dataset for more robust optimization performance. When multiplied by the values, it should produce values with magnitude around 1.\n",
      "    \n",
      "    scaling2: positive-valued scalar used to scale the data values of the second dataset for more robust optimization performance. When multiplied by the values, it should produce values with magnitude around 1.\n",
      "    \n",
      "    ciLevel: statistical confidence level for confidence intervals; in repeated experimentation, this proportion of confidence intervals should contain the true risk ratio. Note that if only one endpoint of the resulting interval is used, for example the lower bound, then the effective confidence level increases by half of one minus ‘ciLevel’. For example, a two-sided 0.90 confidence interval corresponds to a one-sided 0.95 confidence interval.\n",
      "    \n",
      "    ciType: string or numpy array of strings indicating which type of confidence intervals to compute. See ‘Details’.\n",
      "    \n",
      "    bootSE: boolean indicating whether to use the bootstrap to estimate the standard error of the risk ratio.\n",
      "    \n",
      "    bootControl: dictionary of control parameters for the bootstrapping, used only when at least one bootstrap confidence interval is requested via ‘ciType’. See ‘Details’.\n",
      "    \n",
      "    lrtControl: dictionary containing a single component, a numpy array named ‘bounds’, which sets the range inside which the algorithm searches for the endpoints of the likelihood ratio-based confidence interval. This avoids numerical issues with endpoints converging to zero and infinity. If an endpoint is not found within the interval, it is set to ‘nan’. Used only when ‘'lrt'’ is one of the ‘ciType’ values.\n",
      "    \n",
      "    optimArgs: a dictionary with named components matching exactly any arguments that the user wishes to pass to R's ‘optim’ function. See ‘help(optim)’ in R for details. Of particular note, ‘'method'’ can be used to choose the optimization method used for maximizing the log-likelihood to fit the model (e.g., ‘'method'’ could be 'BFGS' instead of the default 'Nelder-Mead'). To specify the ‘control’ argument, use ‘optimControl’ rather than including ‘control’ here.\n",
      "    \n",
      "    optimControl: a dictionary with named components matching exactly any elements that the user wishes to pass as the ‘control’ argument to R's ‘optim’ function. For example, ‘control={'maxit': VALUE)’ for a user-specified VALUE can be used to increase the number of iterations if the optimization is converging slowly.\n",
      "    \n",
      "    initial1: a dictionary with components named ‘'location'’, ‘'scale'’, and ‘'shape'’ providing initial parameter values, intended for use in speeding up or enabling optimization when the default initial values are resulting in failure of the optimization; note that use of ‘scaling’, ‘logScale’ and ‘.normalizeX = True’ cause numerical changes in some of the parameters. For example with ‘logScale1 = True’, initial value(s) for ‘'scale'’ should be specified on the log scale.\n",
      "    \n",
      "    initial2: a dictionary of initial parameter values for the second dataset, analogous to ‘initial1’.\n",
      "    \n",
      "    logScale1: boolean indicating whether optimization for the scale parameter should be done on the log scale for the first dataset. By default this is ‘False’ when the scale is not a function of covariates and ‘True’ when the scale is a function of covariates (to ensure the scale is positive regardless of the regression coefficients). \n",
      "    \n",
      "    logScale2: boolean indicating whether optimization for the scale parameter should be done on the log scale for the second dataset. By default this is ‘False’ when the scale is not a function of covariates and ‘True’ when the scale is a function of covariates (to ensure the scale is positive regardless of the regression coefficients). \n",
      "    \n",
      "    getReturnCalcs: boolean indicating whether to return the estimated return values/probabilities/periods from the fitted models. \n",
      "    \n",
      "    getParams: boolean indicating whether to return the fitted parameter values and their standard errors for the fitted models; WARNING: parameter values for models with covariates for the scale parameter must interpreted based on the value of ‘logScale’.\n",
      "    \n",
      "    getFit: boolean indicating whether to return the full fitted models (potentially useful for model evaluation and for understanding optimization problems); note that estimated parameters in the fit object for nonstationary models will not generally match the MLE provided when ‘getParams’ is ‘True’ because covariates are normalized before fitting and the fit object is based on the normalized covariates. Similarly, parameters will not match if ‘scaling’ is not 1.\n",
      "    \n",
      "    **details**\n",
      "    \n",
      "     See  fit_gev  for more details on fitting the block maxima model for each dataset, including details on blocking and replication. Also see  fit_gev  for information on the ' bootControl ' argument.\n",
      "    \n",
      "     Optimization failures:\n",
      "    \n",
      "     It is not uncommon for maximization of the log-likelihood to fail for extreme value models. Please see the help information for  fit_gev . Also note that if the probability in the denominator of the risk ratio is near one, one may achieve better numerical performance by swapping the two datasets and computing the risk ratio for the probability under dataset 2 relative to the probability under dataset 1.\n",
      "    \n",
      "    ' ciType ' can include one or more of the following:  'delta' ,  'lrt' ,  'boot_norm' ,  'boot_perc' ,  'boot_basic' ,  'boot_stud' ,  'boot_bca' .  'delta'  uses the delta method to compute an asymptotic interval based on the standard error of the log risk ratio.  'lrt'  inverts a likelihood-ratio test. Bootstrap-based options are the normal-based interval using the bootstrap standard error ( 'boot_norm' ), the percentile bootstrap ( 'boot_perc' ), the basic bootstrap ( 'boot_basic' ), the bootstrap-t ( 'boot_stud' ), and the bootstrap BCA method ( 'boot_bca' ). See Paciorek et al. for more details. \n",
      "    \n",
      "     See  fit_pot  for information on the ' bootControl ' argument.\n",
      "    \n",
      "    **value**\n",
      "    \n",
      "    The primary outputs of this function are as follows: the log of the risk ratio and standard error of that log risk ratio (‘logRiskRatio’ and ‘se_logRiskRatio’) as well the risk ratio itself (‘riskRatio’). The standard error is based on the usual MLE asymptotics using a delta-method-based approximation. If requested via ‘ciType’, confidence intervals will be returned, as discussed in ‘Details’.\n",
      "    \n",
      "    **author**\n",
      "    \n",
      "     Christopher J. Paciorek\n",
      "    \n",
      "    **references**\n",
      "    \n",
      "     Paciorek, C.J., D.A. Stone, and M.F. Wehner. 2018. Quantifying uncertainty in the attribution of human influence on severe weather. Weather and Climate Extremes 20:69-80. arXiv preprint <https://arxiv.org/abs/1706.03388>.\n",
      "    \n",
      "     Jeon S., C.J. Paciorek, and M.F. Wehner. 2016. Quantile-based bias correction and uncertainty quantification of extreme event attribution statements. Weather and Climate Extremes 12: 24-32. <DOI:10.1016/j.wace.2016.02.001>. arXiv preprint: <http://arxiv.org/abs/1602.04139>.\n",
      "    \n",
      "    **examples**\n",
      "    \n",
      "    >>> Fort = climextremes.Fort\n",
      "    ... earlyPeriod = numpy.array((1900, 1930))\n",
      "    ... earlyYears = numpy.array(range(earlyPeriod[0], earlyPeriod[1]))\n",
      "    ... latePeriod = numpy.array((1970, 2000))\n",
      "    ... lateYears = numpy.array(range(latePeriod[0], latePeriod[1]))\n",
      "    ... \n",
      "    ... FortMax = Fort.groupby('year').max()[['Prec']]\n",
      "    ... FortMax.reset_index(inplace=True)\n",
      "    ... \n",
      "    ... y1 = FortMax.Prec[FortMax.year < earlyPeriod[1]]\n",
      "    ... y2 = FortMax.Prec[FortMax.year >= latePeriod[0]]\n",
      "    ... \n",
      "    ... # contrast late period with early period, assuming a nonstationary fit\n",
      "    ... # within each time period and finding RR based on midpoint of each period\n",
      "    ... result = climextremes.calc_riskRatio_gev(\n",
      "    ...     returnValue = 3,\n",
      "    ...     y1 = numpy.array(y1), y2 = numpy.array(y2),\n",
      "    ...     x1 = earlyYears, x2 = lateYears,\n",
      "    ...     locationFun1 = 1, locationFun2 = 1,\n",
      "    ...     xNew1 = earlyYears.mean(), xNew2 = lateYears.mean(),\n",
      "    ...     ciType = 'lrt')\n",
      "    ... \n",
      "    ... result['logRiskRatio']\n",
      "    ... result['se_logRiskRatio']\n",
      "    ... result['riskRatio']\n",
      "    ... result['ci_riskRatio_lrt']\n",
      "    ... \n",
      "    ...\n",
      "\n"
     ]
    }
   ],
   "source": [
    "help(climextremes.calc_riskRatio_gev)"
   ]
  },
  {
   "cell_type": "markdown",
   "id": "3505355d-e835-4a38-99f2-d48578942787",
   "metadata": {},
   "source": [
    "#### 3.7.1 Example"
   ]
  },
  {
   "cell_type": "code",
   "execution_count": 8,
   "id": "b1137352-3b05-4295-b3a2-58d97489f749",
   "metadata": {},
   "outputs": [],
   "source": [
    "earlyPeriod = np.array((1900, 1930))\n",
    "earlyYears = np.array(range(earlyPeriod[0], earlyPeriod[1]))\n",
    "\n",
    "latePeriod = np.array((1970, 2000))\n",
    "lateYears = np.array(range(latePeriod[0], latePeriod[1]))\n",
    "\n",
    "dtMax = dt.groupby('year').max()[['Prec']]\n",
    "dtMax.reset_index(inplace=True)"
   ]
  },
  {
   "cell_type": "code",
   "execution_count": 10,
   "id": "fdc5b4d0-5e85-4c68-bb0a-c8a3e2ed1c1c",
   "metadata": {},
   "outputs": [
    {
     "data": {
      "text/html": [
       "<div>\n",
       "<style scoped>\n",
       "    .dataframe tbody tr th:only-of-type {\n",
       "        vertical-align: middle;\n",
       "    }\n",
       "\n",
       "    .dataframe tbody tr th {\n",
       "        vertical-align: top;\n",
       "    }\n",
       "\n",
       "    .dataframe thead th {\n",
       "        text-align: right;\n",
       "    }\n",
       "</style>\n",
       "<table border=\"1\" class=\"dataframe\">\n",
       "  <thead>\n",
       "    <tr style=\"text-align: right;\">\n",
       "      <th></th>\n",
       "      <th>obs</th>\n",
       "      <th>tobs</th>\n",
       "      <th>month</th>\n",
       "      <th>day</th>\n",
       "      <th>year</th>\n",
       "      <th>Prec</th>\n",
       "    </tr>\n",
       "  </thead>\n",
       "  <tbody>\n",
       "    <tr>\n",
       "      <th>1</th>\n",
       "      <td>1.0</td>\n",
       "      <td>1.0</td>\n",
       "      <td>1.0</td>\n",
       "      <td>1.0</td>\n",
       "      <td>1900.0</td>\n",
       "      <td>0.0</td>\n",
       "    </tr>\n",
       "    <tr>\n",
       "      <th>2</th>\n",
       "      <td>2.0</td>\n",
       "      <td>2.0</td>\n",
       "      <td>1.0</td>\n",
       "      <td>2.0</td>\n",
       "      <td>1900.0</td>\n",
       "      <td>0.0</td>\n",
       "    </tr>\n",
       "    <tr>\n",
       "      <th>3</th>\n",
       "      <td>3.0</td>\n",
       "      <td>3.0</td>\n",
       "      <td>1.0</td>\n",
       "      <td>3.0</td>\n",
       "      <td>1900.0</td>\n",
       "      <td>0.0</td>\n",
       "    </tr>\n",
       "    <tr>\n",
       "      <th>4</th>\n",
       "      <td>4.0</td>\n",
       "      <td>4.0</td>\n",
       "      <td>1.0</td>\n",
       "      <td>4.0</td>\n",
       "      <td>1900.0</td>\n",
       "      <td>0.0</td>\n",
       "    </tr>\n",
       "  </tbody>\n",
       "</table>\n",
       "</div>"
      ],
      "text/plain": [
       "   obs  tobs  month  day    year  Prec\n",
       "1  1.0   1.0    1.0  1.0  1900.0   0.0\n",
       "2  2.0   2.0    1.0  2.0  1900.0   0.0\n",
       "3  3.0   3.0    1.0  3.0  1900.0   0.0\n",
       "4  4.0   4.0    1.0  4.0  1900.0   0.0"
      ]
     },
     "execution_count": 10,
     "metadata": {},
     "output_type": "execute_result"
    }
   ],
   "source": [
    "dt.head(4)"
   ]
  },
  {
   "cell_type": "code",
   "execution_count": 12,
   "id": "0f14e3d4-2b74-48dd-82e7-e919151d7cdf",
   "metadata": {},
   "outputs": [
    {
     "data": {
      "text/html": [
       "<div>\n",
       "<style scoped>\n",
       "    .dataframe tbody tr th:only-of-type {\n",
       "        vertical-align: middle;\n",
       "    }\n",
       "\n",
       "    .dataframe tbody tr th {\n",
       "        vertical-align: top;\n",
       "    }\n",
       "\n",
       "    .dataframe thead th {\n",
       "        text-align: right;\n",
       "    }\n",
       "</style>\n",
       "<table border=\"1\" class=\"dataframe\">\n",
       "  <thead>\n",
       "    <tr style=\"text-align: right;\">\n",
       "      <th></th>\n",
       "      <th>year</th>\n",
       "      <th>Prec</th>\n",
       "    </tr>\n",
       "  </thead>\n",
       "  <tbody>\n",
       "    <tr>\n",
       "      <th>0</th>\n",
       "      <td>1900.0</td>\n",
       "      <td>2.39</td>\n",
       "    </tr>\n",
       "    <tr>\n",
       "      <th>1</th>\n",
       "      <td>1901.0</td>\n",
       "      <td>2.32</td>\n",
       "    </tr>\n",
       "    <tr>\n",
       "      <th>2</th>\n",
       "      <td>1902.0</td>\n",
       "      <td>4.34</td>\n",
       "    </tr>\n",
       "    <tr>\n",
       "      <th>3</th>\n",
       "      <td>1903.0</td>\n",
       "      <td>0.85</td>\n",
       "    </tr>\n",
       "  </tbody>\n",
       "</table>\n",
       "</div>"
      ],
      "text/plain": [
       "     year  Prec\n",
       "0  1900.0  2.39\n",
       "1  1901.0  2.32\n",
       "2  1902.0  4.34\n",
       "3  1903.0  0.85"
      ]
     },
     "execution_count": 12,
     "metadata": {},
     "output_type": "execute_result"
    }
   ],
   "source": [
    "dtMax.head(4)"
   ]
  },
  {
   "cell_type": "code",
   "execution_count": 16,
   "id": "d0a4b333-b808-4c43-aaf4-ac6d13bee301",
   "metadata": {},
   "outputs": [],
   "source": [
    "y1 = dtMax.Prec[dtMax.year < earlyPeriod[1]]\n",
    "y2 = dtMax.Prec[dtMax.year >= latePeriod[0]]"
   ]
  },
  {
   "cell_type": "code",
   "execution_count": 17,
   "id": "eb2199d2-2c64-4009-9731-c05144607109",
   "metadata": {},
   "outputs": [
    {
     "data": {
      "text/plain": [
       "0     2.39\n",
       "1     2.32\n",
       "2     4.34\n",
       "3     0.85\n",
       "4     3.02\n",
       "5     1.74\n",
       "6     1.70\n",
       "7     1.21\n",
       "8     1.93\n",
       "9     1.68\n",
       "10    1.48\n",
       "11    1.16\n",
       "12    1.32\n",
       "13    1.32\n",
       "14    1.44\n",
       "15    1.83\n",
       "16    2.23\n",
       "17    0.96\n",
       "18    2.98\n",
       "19    0.97\n",
       "20    1.16\n",
       "21    1.46\n",
       "22    0.84\n",
       "23    2.30\n",
       "24    1.38\n",
       "25    1.70\n",
       "26    1.17\n",
       "27    1.15\n",
       "28    1.32\n",
       "29    1.25\n",
       "Name: Prec, dtype: float64"
      ]
     },
     "execution_count": 17,
     "metadata": {},
     "output_type": "execute_result"
    }
   ],
   "source": [
    "y1"
   ]
  },
  {
   "cell_type": "code",
   "execution_count": 36,
   "id": "4e46abf6-8798-48c7-b397-665a921941fb",
   "metadata": {},
   "outputs": [],
   "source": [
    "# contrast late period with early period, assuming a nonstationary fit\n",
    "# within each time period and finding RR based on midpoint of each period\n",
    "\n",
    "result = climextremes.calc_riskRatio_gev(\n",
    "    returnValue = 3,\n",
    "    y1 = np.array(y1), y2 = np.array(y2),\n",
    "    x1 = earlyYears, x2 = lateYears,\n",
    "    locationFun1 = 1, locationFun2 = 1,\n",
    "    xNew1 = int(earlyYears.mean()), xNew2 = int(lateYears.mean()),\n",
    "    ciType = 'lrt'\n",
    "        )"
   ]
  },
  {
   "cell_type": "code",
   "execution_count": 37,
   "id": "4cd1c310-9d14-4bf0-883b-d95faa9170d0",
   "metadata": {},
   "outputs": [
    {
     "data": {
      "text/plain": [
       "{'logRiskRatio': array([-0.74591629]),\n",
       " 'se_logRiskRatio': array([0.76214254]),\n",
       " 'riskRatio': array([0.4742995]),\n",
       " 'ci_riskRatio_lrt_names': array(['0.05', '0.95'], dtype='<U4'),\n",
       " 'ci_riskRatio_lrt': array([0.13618289, 1.5597101 ])}"
      ]
     },
     "execution_count": 37,
     "metadata": {},
     "output_type": "execute_result"
    }
   ],
   "source": [
    "result"
   ]
  },
  {
   "cell_type": "markdown",
   "id": "fa476d1a-a89d-4970-9463-372cb2c7043f",
   "metadata": {},
   "source": [
    "### 3.8 calc_riskRatio_pot"
   ]
  },
  {
   "cell_type": "code",
   "execution_count": 38,
   "id": "e79c9e39-79db-423a-ab71-a606c57f8c0c",
   "metadata": {},
   "outputs": [
    {
     "name": "stdout",
     "output_type": "stream",
     "text": [
      "Help on function calc_riskRatio_pot:\n",
      "\n",
      "calc_riskRatio_pot(returnValue=None, y1=None, y2=None, x1=None, x2=None, threshold1=None, threshold2=None, locationFun1=None, locationFun2=None, scaleFun1=None, scaleFun2=None, shapeFun1=None, shapeFun2=None, nBlocks1=None, nBlocks2=None, blockIndex1=None, blockIndex2=None, firstBlock1=1.0, firstBlock2=1.0, index1=None, index2=None, nReplicates1=1.0, nReplicates2=1.0, replicateIndex1=None, replicateIndex2=None, weights1=None, weights2=None, proportionMissing1=None, proportionMissing2=None, xNew1=None, xNew2=None, declustering=None, upperTail=True, scaling1=1.0, scaling2=1.0, ciLevel=0.9, ciType=None, bootSE=None, bootControl=None, lrtControl=None, optimArgs=None, optimControl=None, initial1=None, initial2=None, logScale1=None, logScale2=None, getReturnCalcs=False, getParams=False, getFit=False)\n",
      "    Compute risk ratio and uncertainty based on peaks-over-threshold models fit to exceedances over a threshold \n",
      "    \n",
      "    **description**\n",
      "    \n",
      "     Compute risk ratio and uncertainty by fitting peaks-over-threshold model, designed specifically for climate data, to exceedance-only data, using the point process approach. The risk ratio is the ratio of the probability of exceedance of a pre-specified value under the model fit to the first dataset to the probability under the model fit to the second dataset. Default standard errors are based on the usual MLE asymptotics using a delta-method-based approximation, but standard errors based on the nonparametric bootstrap and on a likelihood ratio procedure can also be computed.\n",
      "    \n",
      "    **arguments**\n",
      "    \n",
      "    returnValue: numeric value giving the value for which the risk ratio should be calculated, where the resulting period will be the average number of blocks until the value is exceeded and the probability the probability of exceeding the value in any single block.\n",
      "    \n",
      "    y1: numpy array of exceedance values for the first dataset (values of the outcome variable above the threshold). For better optimization performance, it is recommended that the ‘y’ have magnitude around one (see ‘Details’), for which one can use ‘scaling1’.\n",
      "    \n",
      "    y2: numpy array of exceedance values for the second dataset (values of the outcome variable above the threshold).\n",
      "    \n",
      "    x1: numpy array or pandas data frame with columns corresponding to covariate/predictor/feature variables and each row containing the values of the variable for a block (e.g., often a year with climate data) for the first dataset. The number of rows must equal the number of blocks.\n",
      "    \n",
      "    x2: analogous to ‘x1’ but for the second dataset\n",
      "    \n",
      "    threshold1: a single numeric value for constant threshold or a numpy array with length equal to the number of blocks, indicating the threshold for each block for the first dataset.\n",
      "    \n",
      "    threshold2: analogous to ‘threshold1’ but for the second dataset\n",
      "    \n",
      "    locationFun1: numpy array of either character strings or indices describing a linear model (i.e., regression function) for the location parameter using columns from ‘x1’ for the first dataset. ‘x1’ must be supplied if this is anything other than ‘None’.\n",
      "    \n",
      "    locationFun2: numpy array of either character strings or indices describing a linear model (i.e., regression function) for the location parameter using columns from ‘x2’ for the second dataset. ‘x2’ must be supplied if this is anything other than ‘None’.\n",
      "    \n",
      "    scaleFun1: numpy array of either character strings or indices describing a linear model (i.e., regression function) for the log of the scale parameter using columns from ‘x1’ for the first dataset.  ‘x1’ must be supplied if this is anything other than ‘None’.\n",
      "    \n",
      "    scaleFun2: numpy array of either character strings or indices describing a linear model (i.e., regression function) for the log of the scale parameter using columns from ‘x2’ for the second dataset.  ‘x2’ must be supplied if this is anything other than ‘None’.\n",
      "    \n",
      "    shapeFun1: numpy array of either character strings or indices describing a linear model (i.e., regression function) for the shape parameter using columns from ‘x1’ for the first dataset.  ‘x1’ must be supplied if this is anything other than ‘None’.\n",
      "    \n",
      "    shapeFun2: numpy array of either character strings or indices describing a linear model (i.e., regression function) for the shape parameter using columns from ‘x2’ for the first dataset.  ‘x2’ must be supplied if this is anything other than ‘None’.\n",
      "    \n",
      "    nBlocks1: number of blocks (e.g., a block will often be a year with climate data) in first dataset; note this value determines the interpretation of return values/periods/probabilities; see ‘returnPeriod’ and ‘returnValue’.\n",
      "    \n",
      "    nBlocks2: number of blocks (e.g., a block will often be a year with climate data) in second dataset; note this value determines the interpretation of return values/periods/probabilities; see ‘returnPeriod’ and ‘returnValue’.\n",
      "    \n",
      "    blockIndex1: numpy array providing the index of the block corresponding to each element of ‘y1’. Used only when ‘x1’ is provided to match exceedances to the covariate/predictor/feature value for the exceedance or when using bootstrapping with the resampling based on blocks based on the ‘by’ element of ‘bootControl’. If ‘firstBlock1’ is not equal to one, then ‘blockIndex1’ need not have one as its smallest possible value.\n",
      "    \n",
      "    blockIndex2: numpy array providing the index of the block corresponding to each element of ‘y2’. Analogous to ‘blockIndex1’.\n",
      "    \n",
      "    firstBlock1: single numeric value indicating the numeric value of the first possible block of ‘blockIndex1’. For example the values in ‘blockIndex1’ might indicate the year of each exceedance with the first year of data being 1969, in which case ‘firstBlock1’ would be 1969. Note that the first block may not have any exceedances so it may not be represented in ‘blockIndex1’. Used only to adjust ‘blockIndex1’ so that the block indices start at one and therefore correspond to the rows of ‘x1’.\n",
      "    \n",
      "    firstBlock2: single numeric value indicating the numeric value of the first possible block of ‘blockIndex2’. Analogous to ‘firstBlock1’.\n",
      "    \n",
      "    index1: (optional) numpy array providing the integer-valued index (e.g., julian day for daily climate data) corresponding to each element of ‘y1’. For example if there are 10 original observations and the third, fourth, and seventh values are exceedances, then ‘index1’ would be the vector 3,4,7. Used only when ‘declustering’ is provided to determine which exceedances occur sequentially or within a contiguous set of values of a given length. The actual values are arbitrary; only the lags between the values are used.\n",
      "    \n",
      "    index2: (optional) numpy array providing the integer-valued index (e.g., julian day for daily climate data) corresponding to each element of ‘y2’. Analogous to ‘index1’.\n",
      "    \n",
      "    nReplicates1: numeric value indicating the number of replicates for the first dataset.\n",
      "    \n",
      "    nReplicates2: numeric value indicating the number of replicates for the second dataset.\n",
      "    \n",
      "    replicateIndex1: numpy array providing the index of the replicate corresponding to each element of ‘y1’. Used for three purposes: (1) when using bootstrapping with the resampling based on replicates based on the ‘by’ element of ‘bootControl’, (2) to avoid treating values in different replicates as potentially being sequential or within a short interval when removing values based on ‘declustering’, and (3) to match outcomes to ‘weights’ or ‘proportionMissing’ when either vary by replicate.  \n",
      "    \n",
      "    replicateIndex2: numpy array providing the index of the replicate corresponding to each element of ‘y2’. Analogous to ‘replicateIndex1’.\n",
      "    \n",
      "    weights1: numpy array providing the weights by block for the first dataset. When there is only one replicate or the weights do not vary by replicate, a one-dimensional array of length equal to the number of blocks. When weights vary by replicate, a two-dimensional array with rows corresponding to blocks and columns to replicates. Likelihood contribution of each block is multiplied by the corresponding weight. \n",
      "    \n",
      "    weights2: numpy array providing the weights by block for the second dataset. Analogous to ‘weights1’.\n",
      "    \n",
      "    proportionMissing1: a numeric value or numpy array indicating the proportion of missing values in the original first dataset before exceedances were selected. When the proportion missing is the same for all blocks and replicates, a single value. When there is only one replicate or the weights do not vary by replicate, a one-dimensional array of length equal to the number of blocks. When weights vary by replicate, a two-dimensional array with rows corresponding to blocks and columns to replicates.\n",
      "    \n",
      "    proportionMissing2: a numeric value or numpy array indicating the proportion of missing values in the original second dataset before exceedances were selected. Analogous to ‘proportionMissing1’.\n",
      "    \n",
      "    xNew1: object of the same form as ‘x1’, providing covariate/predictor/feature values for which log risk ratios are desired.\n",
      "    \n",
      "    xNew2: object of the same form as ‘x2’, providing covariate/predictor/feature values for which log risk ratios are desired. Must provide the same number of covariate sets as ‘xNew1’ as the risk ratio is based on contrasting return probabilities under ‘xNew1’ and ‘xNew2’.\n",
      "    \n",
      "    declustering: one of ‘None’, ‘'noruns'’, or a number. If ‘'noruns'’ is specified, only the maximum (or minimum if ‘upperTail = False’) value within a set of exceedances corresponding to successive indices is included. If a number, this should indicate the size of the interval (which will be used with the ‘index’ argument) within which to allow only the largest (or smallest if ‘upperTail = False’) value.\n",
      "    \n",
      "    upperTail: boolean indicating whether one is working with exceedances over a high threshold (‘True’) or exceedances under a low threshold (‘False’); in the latter case, the function works with the negative of the values and the threshold, changing the sign of the resulting location parameters.\n",
      "    \n",
      "    scaling1: positive-valued scalar used to scale the data values of the first dataset for more robust optimization performance. When multiplied by the values, it should produce values with magnitude around 1.\n",
      "    \n",
      "    scaling2: positive-valued scalar used to scale the data values of the second dataset for more robust optimization performance. When multiplied by the values, it should produce values with magnitude around 1.\n",
      "    \n",
      "    ciLevel: statistical confidence level for confidence intervals; in repeated experimentation, this proportion of confidence intervals should contain the true risk ratio. Note that if only one endpoint of the resulting interval is used, for example the lower bound, then the effective confidence level increases by half of one minus ‘ciLevel’. For example, a two-sided 0.90 confidence interval corresponds to a one-sided 0.95 confidence interval.\n",
      "    \n",
      "    ciType: numpy string or numpy array of strings indicating which type of confidence intervals to compute. See ‘Details’.\n",
      "    \n",
      "    bootSE: boolean indicating whether to use the bootstrap to estimate the standard error of the risk ratio.\n",
      "    \n",
      "    bootControl: dictionary of control parameters for the bootstrapping, used only when at least one bootstrap confidence interval is requested via ‘ciType’. See ‘Details’.\n",
      "    \n",
      "    lrtControl: dictionary containing a single component, a numpy array named ‘bounds’, which sets the range inside which the algorithm searches for the endpoints of the likelihood ratio-based confidence interval. This avoids numerical issues with endpoints converging to zero and infinity. If an endpoint is not found within the interval, it is set to ‘nan’. Used only when ‘'lrt'’ is one of the ‘ciType’ values.\n",
      "    \n",
      "    optimArgs: a dictionary with named components matching exactly any arguments that the user wishes to pass to R's ‘optim’ function. See ‘help(optim)’ in R for details. Of particular note, ‘'method'’ can be used to choose the optimization method used for maximizing the log-likelihood to fit the model (e.g., ‘'method'’ could be 'BFGS' instead of the default 'Nelder-Mead'). To specify the ‘control’ argument, use ‘optimControl’ rather than including ‘control’ here.\n",
      "    \n",
      "    optimControl: a dictionary with named components matching exactly any elements that the user wishes to pass as the ‘control’ argument to R's ‘optim’ function. For example, ‘control={'maxit': VALUE)’ for a user-specified VALUE can be used to increase the number of iterations if the optimization is converging slowly.\n",
      "    \n",
      "    initial1: a dictionary with components named ‘'location'’, ‘'scale'’, and ‘'shape'’ providing initial parameter values, intended for use in speeding up or enabling optimization when the default initial values are resulting in failure of the optimization; note that use of ‘scaling’, ‘logScale’ and ‘.normalizeX = True’ cause numerical changes in some of the parameters. For example with ‘logScale1 = True’, initial value(s) for ‘'scale'’ should be specified on the log scale.\n",
      "    \n",
      "    initial2: a dictionary of initial parameter values for the second dataset, analogous to ‘initial1’.\n",
      "    \n",
      "    logScale1: boolean indicating whether optimization for the scale parameter should be done on the log scale for the first dataset. By default this is ‘False’ when the scale is not a function of covariates and ‘True’ when the scale is a function of covariates (to ensure the scale is positive regardless of the regression coefficients). \n",
      "    \n",
      "    logScale2: boolean indicating whether optimization for the scale parameter should be done on the log scale for the second dataset. By default this is ‘False’ when the scale is not a function of covariates and ‘True’ when the scale is a function of covariates (to ensure the scale is positive regardless of the regression coefficients). \n",
      "    \n",
      "    getReturnCalcs: boolean indicating whether to return the estimated return values/probabilities/periods from the fitted models. \n",
      "    \n",
      "    getParams: boolean indicating whether to return the fitted parameter values and their standard errors for the fitted models; WARNING: parameter values for models with covariates for the scale parameter must interpreted based on the value of ‘logScale’.\n",
      "    \n",
      "    getFit: boolean indicating whether to return the full fitted models (potentially useful for model evaluation and for understanding optimization problems); note that estimated parameters in the fit object for nonstationary models will not generally match the MLE provided when ‘getParams’ is ‘True’ because covariates are normalized before fitting and the fit object is based on the normalized covariates. Similarly, parameters will not match if ‘scaling’ is not 1.\n",
      "    \n",
      "    **details**\n",
      "    \n",
      "     See  fit_pot  for more details on fitting the peaks-over-threshold model for each dataset, including details on blocking and replication. Also see  fit_pot  for information on the ' bootControl ' argument. \n",
      "    \n",
      "     Optimization failures:\n",
      "    \n",
      "     It is not uncommon for maximization of the log-likelihood to fail for extreme value models. Please see the help information for  fit_pot . Also note that if the probability in the denominator of the risk ratio is near one, one may achieve better numerical performance by swapping the two datasets and computing the risk ratio for the probability under dataset 2 relative to the probability under dataset 1.\n",
      "    \n",
      "    ' ciType ' can include one or more of the following:  'delta' ,  'lrt' ,  'boot_norm' ,  'boot_perc' ,  'boot_basic' ,  'boot_stud' ,  'boot_bca' .  'delta'  uses the delta method to compute an asymptotic interval based on the standard error of the log risk ratio.  'lrt'  inverts a likelihood-ratio test. Bootstrap-based options are the normal-based interval using the bootstrap standard error ( 'boot_norm' ), the percentile bootstrap ( 'boot_perc' ), the basic bootstrap ( 'boot_basic' ), the bootstrap-t ( 'boot_stud' ), and the bootstrap BCA method ( 'boot_bca' ). See Paciorek et al. for more details. \n",
      "    \n",
      "     See  fit_pot  for information on the ' bootControl ' argument.\n",
      "    \n",
      "    **value**\n",
      "    \n",
      "    The primary outputs of this function are as follows: the log of the risk ratio and standard error of that log risk ratio (‘logRiskRatio’ and ‘se_logRiskRatio’) as well the risk ratio itself (‘riskRatio’). The standard error is based on the usual MLE asymptotics using a delta-method-based approximation. If requested via ‘ciType’, confidence intervals will be returned, as discussed in ‘Details’.\n",
      "    \n",
      "    **author**\n",
      "    \n",
      "     Christopher J. Paciorek\n",
      "    \n",
      "    **references**\n",
      "    \n",
      "     Paciorek, C.J., D.A. Stone, and M.F. Wehner. 2018. Quantifying uncertainty in the attribution of human influence on severe weather. Weather and Climate Extremes 20:69-80. arXiv preprint <https://arxiv.org/abs/1706.03388>.\n",
      "    \n",
      "     Jeon S., C.J. Paciorek, and M.F. Wehner. 2016. Quantile-based bias correction and uncertainty quantification of extreme event attribution statements. Weather and Climate Extremes 12: 24-32. <DOI:10.1016/j.wace.2016.02.001>. arXiv preprint: <http://arxiv.org/abs/1602.04139>.\n",
      "    \n",
      "    **examples**\n",
      "    \n",
      "    >>> Fort = climextremes.Fort\n",
      "    ... threshold = 0.395\n",
      "    ... FortExc = Fort[Fort.Prec > threshold]\n",
      "    ... \n",
      "    ... earlyPeriod = numpy.array((1900, 1930))\n",
      "    ... earlyYears = numpy.array(range(earlyPeriod[0], earlyPeriod[1]))\n",
      "    ... latePeriod = numpy.array((1970, 2000))\n",
      "    ... lateYears = numpy.array(range(latePeriod[0], latePeriod[1]))\n",
      "    ... \n",
      "    ... y1 = FortExc.Prec[FortExc.year < earlyPeriod[1]]\n",
      "    ... y2 = FortExc.Prec[FortExc.year >= latePeriod[0]]\n",
      "    ... block1 = FortExc.year[FortExc.year < earlyPeriod[1]]\n",
      "    ... block2 = FortExc.year[FortExc.year >= latePeriod[0]]\n",
      "    ... \n",
      "    ... # contrast late period with early period, assuming a nonstationary fit\n",
      "    ... # within each time period and finding RR based on midpoint of each period\n",
      "    ... result = climextremes.calc_riskRatio_pot(\n",
      "    ...     returnValue = 3,\n",
      "    ...     y1 = numpy.array(y1), y2 = numpy.array(y2),\n",
      "    ...     x1 = earlyYears, x2 = lateYears,\n",
      "    ...     threshold1 = threshold, threshold2 = threshold,\n",
      "    ...     locationFun1 = 1, locationFun2 = 1,\n",
      "    ...     xNew1 = earlyYears.mean(), xNew2 = lateYears.mean(),\n",
      "    ...     blockIndex1 = numpy.array(block1), blockIndex2 = numpy.array(block2),\n",
      "    ...     firstBlock1 = earlyYears[0], firstBlock2 = lateYears[0],\n",
      "    ...     ciType = 'lrt')\n",
      "    ... \n",
      "    ... result['logRiskRatio']\n",
      "    ... result['se_logRiskRatio']\n",
      "    ... result['riskRatio']\n",
      "    ... result['ci_riskRatio_lrt']\n",
      "    ... \n",
      "    ...\n",
      "\n"
     ]
    }
   ],
   "source": [
    "help(climextremes.calc_riskRatio_pot)"
   ]
  },
  {
   "cell_type": "markdown",
   "id": "fa66b401-78fd-4f3f-8bde-6fb2d22a7387",
   "metadata": {},
   "source": [
    "#### 3.8.1 Example"
   ]
  },
  {
   "cell_type": "code",
   "execution_count": 125,
   "id": "3189475f-6766-4005-bfba-f8bfe49ec601",
   "metadata": {},
   "outputs": [],
   "source": [
    "threshold = 0.395\n",
    "dtExc = dt[dt.Prec > threshold]\n",
    "\n",
    "earlyPeriod = np.array((1900, 1930))\n",
    "earlyYears = np.array(range(earlyPeriod[0], earlyPeriod[1]))\n",
    "\n",
    "latePeriod = np.array((1970, 2000))\n",
    "lateYears = np.array(range(latePeriod[0], latePeriod[1]))\n",
    "    \n",
    "y1 = dtExc.Prec[dtExc.year < earlyPeriod[1]]\n",
    "y2 = dtExc.Prec[dtExc.year >= latePeriod[0]]\n",
    "\n",
    "block1 = dtExc.year[dtExc.year < earlyPeriod[1]]\n",
    "block2 = dtExc.year[dtExc.year >= latePeriod[0]]"
   ]
  },
  {
   "cell_type": "code",
   "execution_count": 126,
   "id": "118ad730-298d-43b7-9520-6699677222d6",
   "metadata": {},
   "outputs": [
    {
     "data": {
      "text/html": [
       "<div>\n",
       "<style scoped>\n",
       "    .dataframe tbody tr th:only-of-type {\n",
       "        vertical-align: middle;\n",
       "    }\n",
       "\n",
       "    .dataframe tbody tr th {\n",
       "        vertical-align: top;\n",
       "    }\n",
       "\n",
       "    .dataframe thead th {\n",
       "        text-align: right;\n",
       "    }\n",
       "</style>\n",
       "<table border=\"1\" class=\"dataframe\">\n",
       "  <thead>\n",
       "    <tr style=\"text-align: right;\">\n",
       "      <th></th>\n",
       "      <th>obs</th>\n",
       "      <th>tobs</th>\n",
       "      <th>month</th>\n",
       "      <th>day</th>\n",
       "      <th>year</th>\n",
       "      <th>Prec</th>\n",
       "    </tr>\n",
       "  </thead>\n",
       "  <tbody>\n",
       "    <tr>\n",
       "      <th>86</th>\n",
       "      <td>86.0</td>\n",
       "      <td>86.0</td>\n",
       "      <td>3.0</td>\n",
       "      <td>27.0</td>\n",
       "      <td>1900.0</td>\n",
       "      <td>0.57</td>\n",
       "    </tr>\n",
       "    <tr>\n",
       "      <th>94</th>\n",
       "      <td>94.0</td>\n",
       "      <td>94.0</td>\n",
       "      <td>4.0</td>\n",
       "      <td>4.0</td>\n",
       "      <td>1900.0</td>\n",
       "      <td>1.52</td>\n",
       "    </tr>\n",
       "    <tr>\n",
       "      <th>95</th>\n",
       "      <td>95.0</td>\n",
       "      <td>95.0</td>\n",
       "      <td>4.0</td>\n",
       "      <td>5.0</td>\n",
       "      <td>1900.0</td>\n",
       "      <td>0.49</td>\n",
       "    </tr>\n",
       "    <tr>\n",
       "      <th>99</th>\n",
       "      <td>99.0</td>\n",
       "      <td>99.0</td>\n",
       "      <td>4.0</td>\n",
       "      <td>9.0</td>\n",
       "      <td>1900.0</td>\n",
       "      <td>0.91</td>\n",
       "    </tr>\n",
       "  </tbody>\n",
       "</table>\n",
       "</div>"
      ],
      "text/plain": [
       "     obs  tobs  month   day    year  Prec\n",
       "86  86.0  86.0    3.0  27.0  1900.0  0.57\n",
       "94  94.0  94.0    4.0   4.0  1900.0  1.52\n",
       "95  95.0  95.0    4.0   5.0  1900.0  0.49\n",
       "99  99.0  99.0    4.0   9.0  1900.0  0.91"
      ]
     },
     "execution_count": 126,
     "metadata": {},
     "output_type": "execute_result"
    }
   ],
   "source": [
    "dtExc.head(4)"
   ]
  },
  {
   "cell_type": "code",
   "execution_count": 131,
   "id": "bcb6495c-5701-4237-8299-c274f6ea819a",
   "metadata": {},
   "outputs": [
    {
     "data": {
      "text/plain": [
       "25644    0.51\n",
       "25656    0.92\n",
       "25675    0.48\n",
       "25729    2.40\n",
       "25730    0.56\n",
       "         ... \n",
       "36375    1.63\n",
       "36403    0.94\n",
       "36430    0.76\n",
       "36448    0.63\n",
       "36485    0.59\n",
       "Name: Prec, Length: 348, dtype: float64"
      ]
     },
     "execution_count": 131,
     "metadata": {},
     "output_type": "execute_result"
    }
   ],
   "source": [
    "y2"
   ]
  },
  {
   "cell_type": "code",
   "execution_count": 130,
   "id": "de4ae483-a56c-4735-a276-2088a19dbe68",
   "metadata": {},
   "outputs": [
    {
     "data": {
      "text/plain": [
       "25644    1970.0\n",
       "25656    1970.0\n",
       "25675    1970.0\n",
       "25729    1970.0\n",
       "25730    1970.0\n",
       "          ...  \n",
       "36375    1999.0\n",
       "36403    1999.0\n",
       "36430    1999.0\n",
       "36448    1999.0\n",
       "36485    1999.0\n",
       "Name: year, Length: 348, dtype: float64"
      ]
     },
     "execution_count": 130,
     "metadata": {},
     "output_type": "execute_result"
    }
   ],
   "source": [
    "block2"
   ]
  },
  {
   "cell_type": "code",
   "execution_count": 124,
   "id": "b223c9e0-697e-41c5-a1ed-86945f2c498e",
   "metadata": {},
   "outputs": [
    {
     "data": {
      "text/plain": [
       "333"
      ]
     },
     "execution_count": 124,
     "metadata": {},
     "output_type": "execute_result"
    }
   ],
   "source": [
    "len(np.array(block1))"
   ]
  },
  {
   "cell_type": "code",
   "execution_count": 149,
   "id": "cdf19bbe-b6fd-4410-b2bb-350bdcb33b19",
   "metadata": {},
   "outputs": [],
   "source": [
    "# contrast late period with early period, assuming a nonstationary fit\n",
    "# within each time period and finding RR based on midpoint of each period\n",
    "result = climextremes.calc_riskRatio_pot(\n",
    "    returnValue = 3,\n",
    "    \n",
    "    y1 = np.array(y1),\n",
    "    y2 = np.array(y2),\n",
    "    \n",
    "    x1 = earlyYears,\n",
    "    x2 = lateYears,\n",
    "    \n",
    "    threshold1 = threshold, \n",
    "    threshold2 = threshold,\n",
    "    \n",
    "    locationFun1 = 1, \n",
    "    locationFun2 = 1,\n",
    "    \n",
    "    xNew1 = int(earlyYears.mean()), \n",
    "    xNew2 = int(lateYears.mean()),\n",
    "    \n",
    "    blockIndex1 = np.array(block1),\n",
    "    blockIndex2 = np.array(block2),\n",
    "    \n",
    "    firstBlock1 = float(earlyYears[0]), # py2r sorunu buradan dolayı\n",
    "    firstBlock2 = float(lateYears[0]), # float kullanmak gerek\n",
    "    \n",
    "    ciType = 'lrt')"
   ]
  },
  {
   "cell_type": "code",
   "execution_count": 150,
   "id": "4b23e70a-bdcf-44ca-af53-5f2eadfb8b9d",
   "metadata": {},
   "outputs": [
    {
     "data": {
      "text/plain": [
       "{'logRiskRatio': array([-0.68988299]),\n",
       " 'se_logRiskRatio': array([0.62212738]),\n",
       " 'riskRatio': array([0.50163476]),\n",
       " 'ci_riskRatio_lrt_names': array(['0.05', '0.95'], dtype='<U4'),\n",
       " 'ci_riskRatio_lrt': array([0.18263271, 1.33406702])}"
      ]
     },
     "execution_count": 150,
     "metadata": {},
     "output_type": "execute_result"
    }
   ],
   "source": [
    "result"
   ]
  },
  {
   "cell_type": "code",
   "execution_count": null,
   "id": "0231a902-68c2-41f3-84d8-d97308dafa0c",
   "metadata": {},
   "outputs": [],
   "source": []
  }
 ],
 "metadata": {
  "kernelspec": {
   "display_name": "Python 3 (ipykernel)",
   "language": "python",
   "name": "python3"
  },
  "language_info": {
   "codemirror_mode": {
    "name": "ipython",
    "version": 3
   },
   "file_extension": ".py",
   "mimetype": "text/x-python",
   "name": "python",
   "nbconvert_exporter": "python",
   "pygments_lexer": "ipython3",
   "version": "3.10.4"
  }
 },
 "nbformat": 4,
 "nbformat_minor": 5
}
