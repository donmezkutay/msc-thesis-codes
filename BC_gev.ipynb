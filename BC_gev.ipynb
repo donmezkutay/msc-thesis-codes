{
 "cells": [
  {
   "cell_type": "code",
   "execution_count": 1,
   "id": "18ba4f79-5061-49a6-8142-0d7182663f31",
   "metadata": {},
   "outputs": [],
   "source": [
    "import climextremes\n",
    "import numpy as np\n",
    "import pandas as pd\n",
    "\n",
    "import warnings\n",
    "warnings.filterwarnings('ignore')"
   ]
  },
  {
   "cell_type": "code",
   "execution_count": null,
   "id": "41ab6767-04d7-426d-83a3-ee5f8115ea54",
   "metadata": {},
   "outputs": [],
   "source": []
  }
 ],
 "metadata": {
  "kernelspec": {
   "display_name": "Python 3 (ipykernel)",
   "language": "python",
   "name": "python3"
  },
  "language_info": {
   "codemirror_mode": {
    "name": "ipython",
    "version": 3
   },
   "file_extension": ".py",
   "mimetype": "text/x-python",
   "name": "python",
   "nbconvert_exporter": "python",
   "pygments_lexer": "ipython3",
   "version": "3.10.4"
  }
 },
 "nbformat": 4,
 "nbformat_minor": 5
}
