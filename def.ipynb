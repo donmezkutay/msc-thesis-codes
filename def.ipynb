{
 "cells": [
  {
   "cell_type": "code",
   "execution_count": 25,
   "id": "d0df079d-27fe-4e81-b606-fb6eb413befe",
   "metadata": {},
   "outputs": [],
   "source": [
    "library('devtools')"
   ]
  },
  {
   "cell_type": "markdown",
   "id": "46c29cb7-7577-4ae8-a428-41041ababa87",
   "metadata": {},
   "source": [
    "# install from CRAN\n",
    "install.packages(c('repr', 'IRdisplay',\n",
    "                   'evaluate', 'crayon',\n",
    "                   'pbdZMQ', 'devtools',\n",
    "                   'uuid', 'digest'))"
   ]
  },
  {
   "cell_type": "code",
   "execution_count": 23,
   "id": "a5f5a54a-d42d-4c6e-be56-5311f83fbe69",
   "metadata": {},
   "outputs": [
    {
     "name": "stderr",
     "output_type": "stream",
     "text": [
      "Updating HTML index of packages in '.Library'\n",
      "\n",
      "Making 'packages.html' ...\n",
      " done\n",
      "\n"
     ]
    }
   ],
   "source": [
    "install.packages(c('devtools'))"
   ]
  },
  {
   "cell_type": "code",
   "execution_count": 20,
   "id": "60fe4a12-3532-4174-b434-04c21973df9b",
   "metadata": {},
   "outputs": [
    {
     "name": "stderr",
     "output_type": "stream",
     "text": [
      "Removing package from ‘/home/donmezk16/Downloads/anaconda3/envs/r_env/lib/R/library’\n",
      "(as ‘lib’ is unspecified)\n",
      "\n",
      "Updating HTML index of packages in '.Library'\n",
      "\n",
      "Making 'packages.html' ...\n",
      " done\n",
      "\n"
     ]
    }
   ],
   "source": [
    "remove.packages(c('testthat'))"
   ]
  },
  {
   "cell_type": "code",
   "execution_count": 21,
   "id": "db73686c-b11e-4588-9fb1-d6c3a4c3c8a3",
   "metadata": {},
   "outputs": [
    {
     "name": "stderr",
     "output_type": "stream",
     "text": [
      "also installing the dependency ‘pkgload’\n",
      "\n",
      "\n",
      "Updating HTML index of packages in '.Library'\n",
      "\n",
      "Making 'packages.html' ...\n",
      " done\n",
      "\n"
     ]
    }
   ],
   "source": [
    "install.packages(c('testthat'))"
   ]
  },
  {
   "cell_type": "code",
   "execution_count": 22,
   "id": "0e2376a6-e828-42dd-b819-0cf1e817fcfc",
   "metadata": {},
   "outputs": [
    {
     "name": "stderr",
     "output_type": "stream",
     "text": [
      "Updating HTML index of packages in '.Library'\n",
      "\n",
      "Making 'packages.html' ...\n",
      " done\n",
      "\n"
     ]
    }
   ],
   "source": [
    "install.packages(c('pkgload'))"
   ]
  },
  {
   "cell_type": "code",
   "execution_count": null,
   "id": "f91c246b-f1be-414a-ad57-62c9d0a2e2e5",
   "metadata": {},
   "outputs": [],
   "source": []
  },
  {
   "cell_type": "code",
   "execution_count": 26,
   "id": "27520a4b-9155-4937-bb76-971513416a21",
   "metadata": {},
   "outputs": [
    {
     "name": "stderr",
     "output_type": "stream",
     "text": [
      "also installing the dependencies ‘RcppArmadillo’, ‘Lmoments’, ‘distillery’\n",
      "\n",
      "\n",
      "Warning message in install.packages(c(\"extRemes\")):\n",
      "“installation of package ‘RcppArmadillo’ had non-zero exit status”\n",
      "Warning message in install.packages(c(\"extRemes\")):\n",
      "“installation of package ‘Lmoments’ had non-zero exit status”\n",
      "Warning message in install.packages(c(\"extRemes\")):\n",
      "“installation of package ‘extRemes’ had non-zero exit status”\n",
      "Updating HTML index of packages in '.Library'\n",
      "\n",
      "Making 'packages.html' ...\n",
      " done\n",
      "\n"
     ]
    }
   ],
   "source": [
    "install.packages(c('extRemes'))"
   ]
  },
  {
   "cell_type": "code",
   "execution_count": 27,
   "id": "fa979587-858a-421a-b4f1-5d3a20a58798",
   "metadata": {},
   "outputs": [
    {
     "name": "stderr",
     "output_type": "stream",
     "text": [
      "Warning message in install.packages(c(\"RcppArmadillo\")):\n",
      "“installation of package ‘RcppArmadillo’ had non-zero exit status”\n",
      "Updating HTML index of packages in '.Library'\n",
      "\n",
      "Making 'packages.html' ...\n",
      " done\n",
      "\n"
     ]
    }
   ],
   "source": [
    "install.packages(c('RcppArmadillo'))"
   ]
  },
  {
   "cell_type": "code",
   "execution_count": null,
   "id": "cf912c4c-f8a4-40b7-b108-3d39b9e375b5",
   "metadata": {},
   "outputs": [],
   "source": []
  },
  {
   "cell_type": "code",
   "execution_count": null,
   "id": "68708059-9398-409b-b173-3455cdd060bf",
   "metadata": {},
   "outputs": [],
   "source": []
  },
  {
   "cell_type": "code",
   "execution_count": 10,
   "id": "8a45851e-56db-49cc-8fcc-0563678d0c8f",
   "metadata": {},
   "outputs": [
    {
     "data": {
      "text/plain": [
       "               _                           \n",
       "platform       x86_64-conda-linux-gnu      \n",
       "arch           x86_64                      \n",
       "os             linux-gnu                   \n",
       "system         x86_64, linux-gnu           \n",
       "status                                     \n",
       "major          4                           \n",
       "minor          2.0                         \n",
       "year           2022                        \n",
       "month          04                          \n",
       "day            22                          \n",
       "svn rev        82229                       \n",
       "language       R                           \n",
       "version.string R version 4.2.0 (2022-04-22)\n",
       "nickname       Vigorous Calisthenics       "
      ]
     },
     "metadata": {},
     "output_type": "display_data"
    }
   ],
   "source": [
    "version"
   ]
  },
  {
   "cell_type": "markdown",
   "id": "1244e61e-fbea-40ea-afdb-aa0156da7e10",
   "metadata": {},
   "source": [
    "If freetype2 libpng libtiff-4 is already installed, check that 'pkg-config' is in your\n",
    "PATH and PKG_CONFIG_PATH contains a freetype2 libpng libtiff-4.pc file. If pkg-config\n",
    "is unavailable you can set INCLUDE_DIR and LIB_DIR manually via:"
   ]
  },
  {
   "cell_type": "code",
   "execution_count": 6,
   "id": "1ba40882-c1af-404f-91b3-5c6bef78647b",
   "metadata": {},
   "outputs": [
    {
     "data": {
      "text/html": [
       "'/home/donmezk16/Downloads/anaconda3/envs/r_env/lib/R/library'"
      ],
      "text/latex": [
       "'/home/donmezk16/Downloads/anaconda3/envs/r\\_env/lib/R/library'"
      ],
      "text/markdown": [
       "'/home/donmezk16/Downloads/anaconda3/envs/r_env/lib/R/library'"
      ],
      "text/plain": [
       "[1] \"/home/donmezk16/Downloads/anaconda3/envs/r_env/lib/R/library\""
      ]
     },
     "metadata": {},
     "output_type": "display_data"
    }
   ],
   "source": [
    ".libPaths()"
   ]
  },
  {
   "cell_type": "code",
   "execution_count": null,
   "id": "1fbb5a14-11ae-4def-a264-cd23cacc5c09",
   "metadata": {},
   "outputs": [
    {
     "name": "stderr",
     "output_type": "stream",
     "text": [
      "Warning message in install.packages(update[instlib == l, \"Package\"], l, contriburl = contriburl, :\n",
      "“installation of package ‘curl’ had non-zero exit status”\n",
      "Warning message in install.packages(update[instlib == l, \"Package\"], l, contriburl = contriburl, :\n",
      "“installation of package ‘Matrix’ had non-zero exit status”\n",
      "Warning message in install.packages(update[instlib == l, \"Package\"], l, contriburl = contriburl, :\n",
      "“installation of package ‘pbdZMQ’ had non-zero exit status”\n",
      "Warning message in install.packages(update[instlib == l, \"Package\"], l, contriburl = contriburl, :\n",
      "“installation of package ‘ragg’ had non-zero exit status”\n",
      "Warning message in install.packages(update[instlib == l, \"Package\"], l, contriburl = contriburl, :\n",
      "“installation of package ‘stringi’ had non-zero exit status”\n",
      "Warning message in install.packages(update[instlib == l, \"Package\"], l, contriburl = contriburl, :\n",
      "“installation of package ‘httpuv’ had non-zero exit status”\n",
      "Warning message in install.packages(update[instlib == l, \"Package\"], l, contriburl = contriburl, :\n",
      "“installation of package ‘mgcv’ had non-zero exit status”\n",
      "Warning message in install.packages(update[instlib == l, \"Package\"], l, contriburl = contriburl, :\n",
      "“installation of package ‘caret’ had non-zero exit status”\n",
      "Warning message in install.packages(update[instlib == l, \"Package\"], l, contriburl = contriburl, :\n",
      "“installation of package ‘pkgload’ had non-zero exit status”\n"
     ]
    }
   ],
   "source": [
    "update.packages(ask=FALSE, checkBuilt=TRUE)"
   ]
  },
  {
   "cell_type": "code",
   "execution_count": null,
   "id": "6e9cb9fb-c417-45ca-98a0-25a0cba71e90",
   "metadata": {},
   "outputs": [],
   "source": []
  }
 ],
 "metadata": {
  "kernelspec": {
   "display_name": "R",
   "language": "R",
   "name": "ir"
  },
  "language_info": {
   "codemirror_mode": "r",
   "file_extension": ".r",
   "mimetype": "text/x-r-source",
   "name": "R",
   "pygments_lexer": "r",
   "version": "4.2.0"
  }
 },
 "nbformat": 4,
 "nbformat_minor": 5
}
