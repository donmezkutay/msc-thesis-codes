{
 "cells": [
  {
   "cell_type": "markdown",
   "id": "c53a0841-125f-49aa-8ec6-d2c8372a28c4",
   "metadata": {},
   "source": [
    "## 0. Import Libraries"
   ]
  },
  {
   "cell_type": "code",
   "execution_count": 1,
   "id": "6e81d9d5-669c-4438-8b8d-34e3faf27348",
   "metadata": {},
   "outputs": [],
   "source": [
    "import numpy as np\n",
    "import xarray as xr"
   ]
  },
  {
   "cell_type": "markdown",
   "id": "e7751a8c-5a9f-4d03-8a2d-8b7ebac1ba6a",
   "metadata": {},
   "source": [
    "## 1. Open Data"
   ]
  },
  {
   "cell_type": "markdown",
   "id": "d9f4a300-0b69-427a-8344-0975fabe9456",
   "metadata": {},
   "source": [
    "### 1.1 Data Options"
   ]
  },
  {
   "cell_type": "code",
   "execution_count": 2,
   "id": "6054c951-6d63-4f39-8fa5-10e6090e1f47",
   "metadata": {},
   "outputs": [],
   "source": [
    "# general data path\n",
    "path_general = fr'/mnt/e/JupyterLab/Yuksek_Lisans/msc_thesis_data/'\n",
    "\n",
    "# years\n",
    "years = np.arange(1985, 2006, dtype=int)"
   ]
  },
  {
   "cell_type": "markdown",
   "id": "5f11ab36-d48b-49c4-ba66-263b430abc62",
   "metadata": {},
   "source": [
    "### 1.2 Cosmo"
   ]
  },
  {
   "cell_type": "markdown",
   "id": "9fc2ef48-72b2-4bca-9989-73c288a9e821",
   "metadata": {},
   "source": [
    "#### 1.2.1 For 1 and 6 Hours"
   ]
  },
  {
   "cell_type": "code",
   "execution_count": null,
   "id": "5791eb96-b9ff-4f33-80ee-c2141dbd0535",
   "metadata": {},
   "outputs": [
    {
     "name": "stdout",
     "output_type": "stream",
     "text": [
      "data opened for DJF-3\n",
      "calculated p99 for DJF-3\n"
     ]
    }
   ],
   "source": [
    "# change these\n",
    "name_variable = 'TOT_PREC'\n",
    "name_dt = 'cosmo' # cosmo or era5land\n",
    "season = 'DJF' # DJF, MAM, JJA, SON\n",
    "time_resample = 3 # options: 1, 3, 6 (resampling)\n",
    "\n",
    "# path for resampling information\n",
    "if time_resample != 1:\n",
    "    path_resample = fr'{time_resample}hrsum'\n",
    "else:\n",
    "    path_resample = fr'{time_resample}hr'\n",
    "    \n",
    "# saving path\n",
    "path_save = fr'data/{name_variable}/{name_dt}/'\n",
    "   \n",
    "# open data\n",
    "path_dt = fr'{path_general}Tr011_MPI_RF_PR_{season}_{path_resample}_198501_200512.nc'\n",
    "\n",
    "# chunk recommendation from chatGPT\n",
    "dt = xr.open_dataset(path_dt, \n",
    "                     chunks={'rlat':10,\n",
    "                             'rlon':10\n",
    "                             }\n",
    "                    )[name_variable]\n",
    "        \n",
    "print(fr'data opened for {season}-{time_resample}')\n",
    "        \n",
    "# calculate quantile 0.99\n",
    "p99_xhr  = dt.quantile(0.99,\n",
    "       dim='time',\n",
    "        )\n",
    "print(fr'calculated p99 for {season}-{time_resample}')\n",
    "# save data\n",
    "p99_xhr.to_netcdf(fr\"{path_save}{name_dt}_{season}_q99_{path_resample}_198501_200512.nc\")\n",
    "print (fr'done with {season}-{time_resample}')"
   ]
  },
  {
   "cell_type": "code",
   "execution_count": null,
   "id": "e4913ff8-b721-4d34-b80a-31fd0596dee4",
   "metadata": {},
   "outputs": [],
   "source": []
  }
 ],
 "metadata": {
  "kernelspec": {
   "display_name": "Python 3 (ipykernel)",
   "language": "python",
   "name": "python3"
  },
  "language_info": {
   "codemirror_mode": {
    "name": "ipython",
    "version": 3
   },
   "file_extension": ".py",
   "mimetype": "text/x-python",
   "name": "python",
   "nbconvert_exporter": "python",
   "pygments_lexer": "ipython3",
   "version": "3.9.7"
  }
 },
 "nbformat": 4,
 "nbformat_minor": 5
}
